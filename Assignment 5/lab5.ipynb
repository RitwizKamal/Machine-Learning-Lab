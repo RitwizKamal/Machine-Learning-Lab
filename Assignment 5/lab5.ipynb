{
 "cells": [
  {
   "cell_type": "code",
   "execution_count": 1,
   "metadata": {},
   "outputs": [
    {
     "data": {
      "text/html": [
       "<div>\n",
       "<style scoped>\n",
       "    .dataframe tbody tr th:only-of-type {\n",
       "        vertical-align: middle;\n",
       "    }\n",
       "\n",
       "    .dataframe tbody tr th {\n",
       "        vertical-align: top;\n",
       "    }\n",
       "\n",
       "    .dataframe thead th {\n",
       "        text-align: right;\n",
       "    }\n",
       "</style>\n",
       "<table border=\"1\" class=\"dataframe\">\n",
       "  <thead>\n",
       "    <tr style=\"text-align: right;\">\n",
       "      <th></th>\n",
       "      <th>Id</th>\n",
       "      <th>ProductId</th>\n",
       "      <th>UserId</th>\n",
       "      <th>ProfileName</th>\n",
       "      <th>HelpfulnessNumerator</th>\n",
       "      <th>HelpfulnessDenominator</th>\n",
       "      <th>Score</th>\n",
       "      <th>Time</th>\n",
       "      <th>Summary</th>\n",
       "      <th>Text</th>\n",
       "    </tr>\n",
       "  </thead>\n",
       "  <tbody>\n",
       "    <tr>\n",
       "      <th>0</th>\n",
       "      <td>1</td>\n",
       "      <td>B001E4KFG0</td>\n",
       "      <td>A3SGXH7AUHU8GW</td>\n",
       "      <td>delmartian</td>\n",
       "      <td>1</td>\n",
       "      <td>1</td>\n",
       "      <td>5</td>\n",
       "      <td>1303862400</td>\n",
       "      <td>Good Quality Dog Food</td>\n",
       "      <td>I have bought several of the Vitality canned d...</td>\n",
       "    </tr>\n",
       "    <tr>\n",
       "      <th>1</th>\n",
       "      <td>2</td>\n",
       "      <td>B00813GRG4</td>\n",
       "      <td>A1D87F6ZCVE5NK</td>\n",
       "      <td>dll pa</td>\n",
       "      <td>0</td>\n",
       "      <td>0</td>\n",
       "      <td>1</td>\n",
       "      <td>1346976000</td>\n",
       "      <td>Not as Advertised</td>\n",
       "      <td>Product arrived labeled as Jumbo Salted Peanut...</td>\n",
       "    </tr>\n",
       "    <tr>\n",
       "      <th>2</th>\n",
       "      <td>3</td>\n",
       "      <td>B000LQOCH0</td>\n",
       "      <td>ABXLMWJIXXAIN</td>\n",
       "      <td>Natalia Corres \"Natalia Corres\"</td>\n",
       "      <td>1</td>\n",
       "      <td>1</td>\n",
       "      <td>4</td>\n",
       "      <td>1219017600</td>\n",
       "      <td>\"Delight\" says it all</td>\n",
       "      <td>This is a confection that has been around a fe...</td>\n",
       "    </tr>\n",
       "    <tr>\n",
       "      <th>3</th>\n",
       "      <td>4</td>\n",
       "      <td>B000UA0QIQ</td>\n",
       "      <td>A395BORC6FGVXV</td>\n",
       "      <td>Karl</td>\n",
       "      <td>3</td>\n",
       "      <td>3</td>\n",
       "      <td>2</td>\n",
       "      <td>1307923200</td>\n",
       "      <td>Cough Medicine</td>\n",
       "      <td>If you are looking for the secret ingredient i...</td>\n",
       "    </tr>\n",
       "    <tr>\n",
       "      <th>4</th>\n",
       "      <td>5</td>\n",
       "      <td>B006K2ZZ7K</td>\n",
       "      <td>A1UQRSCLF8GW1T</td>\n",
       "      <td>Michael D. Bigham \"M. Wassir\"</td>\n",
       "      <td>0</td>\n",
       "      <td>0</td>\n",
       "      <td>5</td>\n",
       "      <td>1350777600</td>\n",
       "      <td>Great taffy</td>\n",
       "      <td>Great taffy at a great price.  There was a wid...</td>\n",
       "    </tr>\n",
       "  </tbody>\n",
       "</table>\n",
       "</div>"
      ],
      "text/plain": [
       "   Id   ProductId          UserId                      ProfileName  \\\n",
       "0   1  B001E4KFG0  A3SGXH7AUHU8GW                       delmartian   \n",
       "1   2  B00813GRG4  A1D87F6ZCVE5NK                           dll pa   \n",
       "2   3  B000LQOCH0   ABXLMWJIXXAIN  Natalia Corres \"Natalia Corres\"   \n",
       "3   4  B000UA0QIQ  A395BORC6FGVXV                             Karl   \n",
       "4   5  B006K2ZZ7K  A1UQRSCLF8GW1T    Michael D. Bigham \"M. Wassir\"   \n",
       "\n",
       "   HelpfulnessNumerator  HelpfulnessDenominator  Score        Time  \\\n",
       "0                     1                       1      5  1303862400   \n",
       "1                     0                       0      1  1346976000   \n",
       "2                     1                       1      4  1219017600   \n",
       "3                     3                       3      2  1307923200   \n",
       "4                     0                       0      5  1350777600   \n",
       "\n",
       "                 Summary                                               Text  \n",
       "0  Good Quality Dog Food  I have bought several of the Vitality canned d...  \n",
       "1      Not as Advertised  Product arrived labeled as Jumbo Salted Peanut...  \n",
       "2  \"Delight\" says it all  This is a confection that has been around a fe...  \n",
       "3         Cough Medicine  If you are looking for the secret ingredient i...  \n",
       "4            Great taffy  Great taffy at a great price.  There was a wid...  "
      ]
     },
     "execution_count": 1,
     "metadata": {},
     "output_type": "execute_result"
    }
   ],
   "source": [
    "import pandas as pd\n",
    "import numpy as np\n",
    "df1=pd.read_csv('F:/0Sem 7/ML Lab/amazon food review dataset/Reviews.csv')\n",
    "df1.head()"
   ]
  },
  {
   "cell_type": "code",
   "execution_count": 2,
   "metadata": {},
   "outputs": [
    {
     "name": "stdout",
     "output_type": "stream",
     "text": [
      "(568454,) (568454,) (568454, 2)\n"
     ]
    }
   ],
   "source": [
    "score=df1.values[:,6]\n",
    "text=df1.values[:,9]\n",
    "reviews=np.vstack((score,text)).T\n",
    "print(score.shape, text.shape, reviews.shape)"
   ]
  },
  {
   "cell_type": "code",
   "execution_count": 3,
   "metadata": {},
   "outputs": [],
   "source": [
    "p=0\n",
    "n=0\n",
    "for i in range(reviews.shape[0]):\n",
    "    if reviews[i,0] > 3:\n",
    "        reviews[i,0]=0 #positive review\n",
    "        p=p+1\n",
    "    else:\n",
    "        reviews[i,0]=1 #negative review\n",
    "        n=n+1"
   ]
  },
  {
   "cell_type": "code",
   "execution_count": 4,
   "metadata": {},
   "outputs": [],
   "source": [
    "reviews = reviews[reviews[:,0].argsort()]   #sort by 1st column"
   ]
  },
  {
   "cell_type": "code",
   "execution_count": 5,
   "metadata": {},
   "outputs": [
    {
     "data": {
      "text/plain": [
       "(10000, 2)"
      ]
     },
     "execution_count": 5,
     "metadata": {},
     "output_type": "execute_result"
    }
   ],
   "source": [
    "train=[]\n",
    "for i in range(5000):\n",
    "    train.append(reviews[i])\n",
    "    \n",
    "for i in range(443777,443777+5000):\n",
    "    train.append(reviews[i])\n",
    "    \n",
    "train=np.asarray(train)\n",
    "train.shape"
   ]
  },
  {
   "cell_type": "code",
   "execution_count": null,
   "metadata": {},
   "outputs": [],
   "source": []
  },
  {
   "cell_type": "code",
   "execution_count": null,
   "metadata": {},
   "outputs": [],
   "source": []
  },
  {
   "cell_type": "code",
   "execution_count": 6,
   "metadata": {},
   "outputs": [
    {
     "data": {
      "text/plain": [
       "(2000, 2)"
      ]
     },
     "execution_count": 6,
     "metadata": {},
     "output_type": "execute_result"
    }
   ],
   "source": [
    "import random as r\n",
    "test=[]\n",
    "for i in range(2000):\n",
    "    index=r.randint(0,reviews.shape[0])\n",
    "    test.append(reviews[index])\n",
    "    \n",
    "test=np.asarray(test)\n",
    "test.shape"
   ]
  },
  {
   "cell_type": "code",
   "execution_count": 7,
   "metadata": {},
   "outputs": [],
   "source": [
    "train_all_words=[]\n",
    "for i in range(train.shape[0]):\n",
    "    train_all_words.append(train[i,1].split())\n",
    "    \n",
    "train_all_words = [item for sublist in train_all_words for item in sublist]\n",
    "\n",
    "test_all_words=[]\n",
    "for i in range(test.shape[0]):\n",
    "    test_all_words.append(test[i,1].split())\n",
    "    \n",
    "test_all_words = [item for sublist in test_all_words for item in sublist]\n",
    "\n",
    "from collections import Counter\n",
    "def common_words(words, number_of_words, reverse=False):\n",
    "    counter = Counter(words)\n",
    "    return sorted(counter, key = counter.get, reverse=reverse)[:number_of_words]\n",
    "\n",
    "train_least_common=common_words(train_all_words,200)\n",
    "train_most_common=common_words(train_all_words,200,reverse=True)\n",
    "\n",
    "test_least_common=common_words(test_all_words,200)\n",
    "test_most_common=common_words(test_all_words,200,reverse=True)"
   ]
  },
  {
   "cell_type": "code",
   "execution_count": 8,
   "metadata": {},
   "outputs": [],
   "source": [
    "for i in range(train.shape[0]):\n",
    "    train[i,1]=train[i,1].split()\n",
    "    \n",
    "for i in range(test.shape[0]):\n",
    "    test[i,1]=test[i,1].split()"
   ]
  },
  {
   "cell_type": "code",
   "execution_count": null,
   "metadata": {},
   "outputs": [],
   "source": []
  },
  {
   "cell_type": "code",
   "execution_count": 9,
   "metadata": {},
   "outputs": [],
   "source": [
    "for i in range(train.shape[0]):\n",
    "    for item in train_most_common:\n",
    "        if item in train[i,1]:\n",
    "            train[i,1].remove(item)\n",
    "    for item in train_least_common:\n",
    "        if item in train[i,1]:\n",
    "            train[i,1].remove(item)\n",
    "            \n",
    "for i in range(test.shape[0]):\n",
    "    for item in test_most_common:\n",
    "        if item in test[i,1]:\n",
    "            test[i,1].remove(item)\n",
    "    for item in test_least_common:\n",
    "        if item in test[i,1]:\n",
    "            test[i,1].remove(item)"
   ]
  },
  {
   "cell_type": "code",
   "execution_count": 10,
   "metadata": {},
   "outputs": [],
   "source": [
    "for i in range(train.shape[0]):\n",
    "    train[i,1]=\" \".join(train[i,1])\n",
    "    \n",
    "for i in range(test.shape[0]):\n",
    "    test[i,1]=\" \".join(test[i,1])"
   ]
  },
  {
   "cell_type": "code",
   "execution_count": 11,
   "metadata": {},
   "outputs": [],
   "source": [
    "train_docs=[]\n",
    "test_docs=[]\n",
    "train_label=[]\n",
    "test_label=[]\n",
    "for i in range(train.shape[0]):\n",
    "    train_docs.append(train[i,1])\n",
    "    train_label.append(train[i,0])\n",
    "    \n",
    "for i in range(test.shape[0]):\n",
    "    test_docs.append(test[i,1])\n",
    "    test_label.append(test[i,0])"
   ]
  },
  {
   "cell_type": "code",
   "execution_count": 12,
   "metadata": {},
   "outputs": [
    {
     "name": "stderr",
     "output_type": "stream",
     "text": [
      "Using TensorFlow backend.\n"
     ]
    }
   ],
   "source": [
    "from numpy import array\n",
    "from numpy import asarray\n",
    "from numpy import zeros\n",
    "from keras.preprocessing.text import Tokenizer\n",
    "from keras.preprocessing.sequence import pad_sequences\n",
    "from keras.models import Sequential\n",
    "from keras.layers import Dense\n",
    "from keras.layers import Flatten\n",
    "from keras.layers import Embedding\n",
    "\n",
    "# prepare tokenizer\n",
    "t = Tokenizer()\n",
    "t.fit_on_texts(train_docs)\n",
    "vocab_size = len(t.word_index) + 1\n",
    "#integer encode the documents\n",
    "encoded_docs = t.texts_to_sequences(train_docs)\n",
    "\n",
    "#print(encoded_docs)\n",
    "#pad documents to a max length of 4 words\n",
    "\n",
    "max_length = 100\n",
    "padded_docs = pad_sequences(encoded_docs, maxlen=max_length, padding='post')\n",
    "\n",
    "#print(padded_docs)\n",
    "#load the whole embedding into memory\n",
    "\n",
    "embeddings_index = dict()\n",
    "f = open('F:/0Sem 7/ML Lab/glove/glove.6B.100d.txt',encoding='utf8')\n",
    "for line in f:\n",
    "    values = line.split()\n",
    "    word = values[0]\n",
    "    coefs = asarray(values[1:], dtype='float32')\n",
    "    embeddings_index[word] = coefs\n",
    "f.close()\n",
    "\n",
    "#print('Loaded %s word vectors.' % len(embeddings_index))\n",
    "\n",
    "#create a weight matrix for words in training docs\n",
    "embedding_matrix = zeros((vocab_size, 100))\n",
    "for word, i in t.word_index.items():\n",
    "    embedding_vector = embeddings_index.get(word)\n",
    "    if embedding_vector is not None:\n",
    "        embedding_matrix[i] = embedding_vector"
   ]
  },
  {
   "cell_type": "code",
   "execution_count": 13,
   "metadata": {},
   "outputs": [
    {
     "data": {
      "text/plain": [
       "(19814, 100)"
      ]
     },
     "execution_count": 13,
     "metadata": {},
     "output_type": "execute_result"
    }
   ],
   "source": [
    "embedding_matrix.shape"
   ]
  },
  {
   "cell_type": "code",
   "execution_count": null,
   "metadata": {},
   "outputs": [],
   "source": []
  },
  {
   "cell_type": "code",
   "execution_count": 14,
   "metadata": {},
   "outputs": [
    {
     "name": "stdout",
     "output_type": "stream",
     "text": [
      "WARNING:tensorflow:Large dropout rate: 0.8 (>0.5). In TensorFlow 2.x, dropout() uses dropout rate instead of keep_prob. Please ensure that this is intended.\n"
     ]
    }
   ],
   "source": [
    "import tensorflow as tf\n",
    "from tensorflow.keras import layers\n",
    "from tensorflow.keras.models import Sequential\n",
    "\n",
    "#define model\n",
    "model = Sequential()\n",
    "e = tf.keras.layers.Embedding(vocab_size, 100, weights=[embedding_matrix], input_length=100, trainable=False)\n",
    "model.add(e)\n",
    "model.add(layers.Conv1D(32,4, activation='relu'))\n",
    "model.add(layers.Dropout(rate=0.8))\n",
    "model.add(layers.MaxPooling1D(pool_size=2))\n",
    "model.add(layers.Conv1D(64,3,activation='relu'))\n",
    "model.add(layers.BatchNormalization())\n",
    "model.add(layers.Flatten())\n",
    "model.add(layers.Dense(128, activation='relu'))\n",
    "model.add(layers.Dense(1, activation='sigmoid'))"
   ]
  },
  {
   "cell_type": "code",
   "execution_count": 15,
   "metadata": {},
   "outputs": [
    {
     "name": "stdout",
     "output_type": "stream",
     "text": [
      "Model: \"sequential\"\n",
      "_________________________________________________________________\n",
      "Layer (type)                 Output Shape              Param #   \n",
      "=================================================================\n",
      "embedding (Embedding)        (None, 100, 100)          1981400   \n",
      "_________________________________________________________________\n",
      "conv1d (Conv1D)              (None, 97, 32)            12832     \n",
      "_________________________________________________________________\n",
      "dropout (Dropout)            (None, 97, 32)            0         \n",
      "_________________________________________________________________\n",
      "max_pooling1d (MaxPooling1D) (None, 48, 32)            0         \n",
      "_________________________________________________________________\n",
      "conv1d_1 (Conv1D)            (None, 46, 64)            6208      \n",
      "_________________________________________________________________\n",
      "batch_normalization (BatchNo (None, 46, 64)            256       \n",
      "_________________________________________________________________\n",
      "flatten (Flatten)            (None, 2944)              0         \n",
      "_________________________________________________________________\n",
      "dense (Dense)                (None, 128)               376960    \n",
      "_________________________________________________________________\n",
      "dense_1 (Dense)              (None, 1)                 129       \n",
      "=================================================================\n",
      "Total params: 2,377,785\n",
      "Trainable params: 396,257\n",
      "Non-trainable params: 1,981,528\n",
      "_________________________________________________________________\n",
      "None\n"
     ]
    }
   ],
   "source": [
    "# compile the model\n",
    "model.compile(optimizer='adam', loss='binary_crossentropy', metrics=['accuracy'])\n",
    "# summarize the model\n",
    "print(model.summary())"
   ]
  },
  {
   "cell_type": "code",
   "execution_count": 16,
   "metadata": {},
   "outputs": [
    {
     "name": "stdout",
     "output_type": "stream",
     "text": [
      "(None, 100, 100)\n",
      "(None, 97, 32)\n",
      "(None, 97, 32)\n",
      "(None, 48, 32)\n",
      "(None, 46, 64)\n",
      "(None, 46, 64)\n",
      "(None, 2944)\n",
      "(None, 128)\n",
      "(None, 1)\n"
     ]
    }
   ],
   "source": [
    "for layer in model.layers:\n",
    "    print(layer.output_shape)"
   ]
  },
  {
   "cell_type": "code",
   "execution_count": 17,
   "metadata": {},
   "outputs": [
    {
     "data": {
      "text/plain": [
       "(10000,)"
      ]
     },
     "execution_count": 17,
     "metadata": {},
     "output_type": "execute_result"
    }
   ],
   "source": [
    "train_label=np.asarray(train_label)\n",
    "train_label.shape"
   ]
  },
  {
   "cell_type": "code",
   "execution_count": null,
   "metadata": {},
   "outputs": [],
   "source": []
  },
  {
   "cell_type": "code",
   "execution_count": 18,
   "metadata": {
    "scrolled": true
   },
   "outputs": [
    {
     "data": {
      "text/plain": [
       "(10000, 100)"
      ]
     },
     "execution_count": 18,
     "metadata": {},
     "output_type": "execute_result"
    }
   ],
   "source": [
    "padded_docs.shape"
   ]
  },
  {
   "cell_type": "code",
   "execution_count": 19,
   "metadata": {},
   "outputs": [],
   "source": [
    "# prepare tokenizer\n",
    "t1 = Tokenizer()\n",
    "t1.fit_on_texts(test_docs)\n",
    "vocab_size1 = len(t1.word_index) + 1\n",
    "#integer encode the documents\n",
    "encoded_docs1 = t1.texts_to_sequences(test_docs)\n",
    "\n",
    "#print(encoded_docs)\n",
    "#pad documents to a max length of 4 words\n",
    "\n",
    "max_length1 = 100\n",
    "padded_docs1 = pad_sequences(encoded_docs1, maxlen=max_length1, padding='post')\n",
    "test_label=np.asarray(test_label)\n",
    "#print(padded_docs)"
   ]
  },
  {
   "cell_type": "code",
   "execution_count": 20,
   "metadata": {},
   "outputs": [
    {
     "name": "stdout",
     "output_type": "stream",
     "text": [
      "Train on 10000 samples, validate on 2000 samples\n",
      "Epoch 1/50\n",
      "WARNING:tensorflow:Large dropout rate: 0.8 (>0.5). In TensorFlow 2.x, dropout() uses dropout rate instead of keep_prob. Please ensure that this is intended.\n",
      "WARNING:tensorflow:Large dropout rate: 0.8 (>0.5). In TensorFlow 2.x, dropout() uses dropout rate instead of keep_prob. Please ensure that this is intended.\n",
      "10000/10000 [==============================] - 15s 1ms/sample - loss: 0.7518 - accuracy: 0.5383 - val_loss: 0.5890 - val_accuracy: 0.6545\n",
      "Epoch 2/50\n",
      "10000/10000 [==============================] - 4s 411us/sample - loss: 0.6280 - accuracy: 0.6508 - val_loss: 0.5836 - val_accuracy: 0.7090\n",
      "Epoch 3/50\n",
      "10000/10000 [==============================] - 4s 396us/sample - loss: 0.5709 - accuracy: 0.7029 - val_loss: 0.8598 - val_accuracy: 0.4430\n",
      "Epoch 4/50\n",
      "10000/10000 [==============================] - 4s 409us/sample - loss: 0.5436 - accuracy: 0.7237 - val_loss: 0.7173 - val_accuracy: 0.5605\n",
      "Epoch 5/50\n",
      "10000/10000 [==============================] - 4s 406us/sample - loss: 0.5264 - accuracy: 0.7391 - val_loss: 0.9473 - val_accuracy: 0.4310\n",
      "Epoch 6/50\n",
      "10000/10000 [==============================] - 4s 398us/sample - loss: 0.5079 - accuracy: 0.7503 - val_loss: 0.7458 - val_accuracy: 0.5360\n",
      "Epoch 7/50\n",
      "10000/10000 [==============================] - 4s 410us/sample - loss: 0.5004 - accuracy: 0.7588 - val_loss: 0.7233 - val_accuracy: 0.5750\n",
      "Epoch 8/50\n",
      "10000/10000 [==============================] - 4s 403us/sample - loss: 0.4874 - accuracy: 0.7670 - val_loss: 0.7189 - val_accuracy: 0.5865\n",
      "Epoch 9/50\n",
      "10000/10000 [==============================] - 4s 419us/sample - loss: 0.4819 - accuracy: 0.7649 - val_loss: 0.6732 - val_accuracy: 0.6130\n",
      "Epoch 10/50\n",
      "10000/10000 [==============================] - 4s 403us/sample - loss: 0.4725 - accuracy: 0.7740 - val_loss: 0.9042 - val_accuracy: 0.4420\n",
      "Epoch 11/50\n",
      "10000/10000 [==============================] - 4s 415us/sample - loss: 0.4659 - accuracy: 0.7789 - val_loss: 0.8586 - val_accuracy: 0.4595\n",
      "Epoch 12/50\n",
      "10000/10000 [==============================] - 4s 410us/sample - loss: 0.4570 - accuracy: 0.7896 - val_loss: 0.6406 - val_accuracy: 0.6640\n",
      "Epoch 13/50\n",
      "10000/10000 [==============================] - 4s 410us/sample - loss: 0.4566 - accuracy: 0.7852 - val_loss: 0.8381 - val_accuracy: 0.4950\n",
      "Epoch 14/50\n",
      "10000/10000 [==============================] - 4s 407us/sample - loss: 0.4500 - accuracy: 0.7873 - val_loss: 0.7476 - val_accuracy: 0.5715\n",
      "Epoch 15/50\n",
      "10000/10000 [==============================] - 4s 406us/sample - loss: 0.4349 - accuracy: 0.7966 - val_loss: 0.7762 - val_accuracy: 0.5230\n",
      "Epoch 16/50\n",
      "10000/10000 [==============================] - 4s 423us/sample - loss: 0.4312 - accuracy: 0.8022 - val_loss: 0.9159 - val_accuracy: 0.4410\n",
      "Epoch 17/50\n",
      "10000/10000 [==============================] - 4s 403us/sample - loss: 0.4284 - accuracy: 0.8017 - val_loss: 0.8757 - val_accuracy: 0.4605\n",
      "Epoch 18/50\n",
      "10000/10000 [==============================] - 4s 408us/sample - loss: 0.4230 - accuracy: 0.8079 - val_loss: 0.9701 - val_accuracy: 0.4160\n",
      "Epoch 19/50\n",
      "10000/10000 [==============================] - 4s 407us/sample - loss: 0.4227 - accuracy: 0.8062 - val_loss: 0.8910 - val_accuracy: 0.4650\n",
      "Epoch 20/50\n",
      "10000/10000 [==============================] - 4s 408us/sample - loss: 0.4193 - accuracy: 0.8048 - val_loss: 0.7742 - val_accuracy: 0.5565\n",
      "Epoch 21/50\n",
      "10000/10000 [==============================] - 4s 407us/sample - loss: 0.4146 - accuracy: 0.8084 - val_loss: 0.8171 - val_accuracy: 0.5325\n",
      "Epoch 22/50\n",
      "10000/10000 [==============================] - 4s 414us/sample - loss: 0.4044 - accuracy: 0.8127 - val_loss: 0.7771 - val_accuracy: 0.5460\n",
      "Epoch 23/50\n",
      "10000/10000 [==============================] - 4s 406us/sample - loss: 0.3978 - accuracy: 0.8226 - val_loss: 0.8573 - val_accuracy: 0.4665\n",
      "Epoch 24/50\n",
      "10000/10000 [==============================] - 4s 400us/sample - loss: 0.3954 - accuracy: 0.8228 - val_loss: 0.9927 - val_accuracy: 0.4120\n",
      "Epoch 25/50\n",
      "10000/10000 [==============================] - 4s 416us/sample - loss: 0.3908 - accuracy: 0.8194 - val_loss: 0.8490 - val_accuracy: 0.4965\n",
      "Epoch 26/50\n",
      "10000/10000 [==============================] - 4s 398us/sample - loss: 0.3818 - accuracy: 0.8284 - val_loss: 0.8301 - val_accuracy: 0.4785\n",
      "Epoch 27/50\n",
      "10000/10000 [==============================] - 4s 403us/sample - loss: 0.3882 - accuracy: 0.8265 - val_loss: 0.8254 - val_accuracy: 0.5155\n",
      "Epoch 28/50\n",
      "10000/10000 [==============================] - 4s 402us/sample - loss: 0.3865 - accuracy: 0.8231 - val_loss: 0.9064 - val_accuracy: 0.4310\n",
      "Epoch 29/50\n",
      "10000/10000 [==============================] - 4s 412us/sample - loss: 0.3809 - accuracy: 0.8286 - val_loss: 1.0286 - val_accuracy: 0.3865\n",
      "Epoch 30/50\n",
      "10000/10000 [==============================] - 5s 492us/sample - loss: 0.3802 - accuracy: 0.8288 - val_loss: 0.9035 - val_accuracy: 0.4485\n",
      "Epoch 31/50\n",
      "10000/10000 [==============================] - 4s 447us/sample - loss: 0.3751 - accuracy: 0.8320 - val_loss: 0.9119 - val_accuracy: 0.4335\n",
      "Epoch 32/50\n",
      "10000/10000 [==============================] - 4s 401us/sample - loss: 0.3626 - accuracy: 0.8364 - val_loss: 1.1225 - val_accuracy: 0.3935\n",
      "Epoch 33/50\n",
      "10000/10000 [==============================] - 4s 409us/sample - loss: 0.3737 - accuracy: 0.8288 - val_loss: 0.9118 - val_accuracy: 0.4735\n",
      "Epoch 34/50\n",
      "10000/10000 [==============================] - 4s 396us/sample - loss: 0.3606 - accuracy: 0.8363 - val_loss: 0.8570 - val_accuracy: 0.4945\n",
      "Epoch 35/50\n",
      "10000/10000 [==============================] - 4s 424us/sample - loss: 0.3604 - accuracy: 0.8419 - val_loss: 0.9635 - val_accuracy: 0.4360\n",
      "Epoch 36/50\n",
      "10000/10000 [==============================] - 4s 441us/sample - loss: 0.3588 - accuracy: 0.8395 - val_loss: 0.9303 - val_accuracy: 0.4430\n",
      "Epoch 37/50\n",
      "10000/10000 [==============================] - 4s 406us/sample - loss: 0.3518 - accuracy: 0.8448 - val_loss: 0.9718 - val_accuracy: 0.4705\n",
      "Epoch 38/50\n",
      "10000/10000 [==============================] - 4s 402us/sample - loss: 0.3547 - accuracy: 0.8418 - val_loss: 0.8918 - val_accuracy: 0.4570\n",
      "Epoch 39/50\n",
      "10000/10000 [==============================] - 4s 403us/sample - loss: 0.3461 - accuracy: 0.8444 - val_loss: 0.9862 - val_accuracy: 0.4290\n",
      "Epoch 40/50\n",
      "10000/10000 [==============================] - 4s 445us/sample - loss: 0.3389 - accuracy: 0.8525 - val_loss: 0.9890 - val_accuracy: 0.4550\n",
      "Epoch 41/50\n",
      "10000/10000 [==============================] - 4s 436us/sample - loss: 0.3488 - accuracy: 0.8450 - val_loss: 0.9577 - val_accuracy: 0.4225\n",
      "Epoch 42/50\n",
      "10000/10000 [==============================] - 4s 435us/sample - loss: 0.3347 - accuracy: 0.8505 - val_loss: 0.9335 - val_accuracy: 0.4455\n",
      "Epoch 43/50\n",
      "10000/10000 [==============================] - 4s 442us/sample - loss: 0.3386 - accuracy: 0.8484 - val_loss: 0.8673 - val_accuracy: 0.4885\n",
      "Epoch 44/50\n",
      "10000/10000 [==============================] - 4s 447us/sample - loss: 0.3367 - accuracy: 0.8510 - val_loss: 0.8809 - val_accuracy: 0.4790\n",
      "Epoch 45/50\n",
      "10000/10000 [==============================] - 4s 424us/sample - loss: 0.3354 - accuracy: 0.8516 - val_loss: 0.9054 - val_accuracy: 0.4525\n",
      "Epoch 46/50\n",
      "10000/10000 [==============================] - 4s 424us/sample - loss: 0.3285 - accuracy: 0.8583 - val_loss: 0.8115 - val_accuracy: 0.5065\n",
      "Epoch 47/50\n",
      "10000/10000 [==============================] - 4s 427us/sample - loss: 0.3260 - accuracy: 0.8595 - val_loss: 0.9263 - val_accuracy: 0.4645\n",
      "Epoch 48/50\n",
      "10000/10000 [==============================] - 4s 426us/sample - loss: 0.3276 - accuracy: 0.8551 - val_loss: 0.9808 - val_accuracy: 0.4300\n",
      "Epoch 49/50\n",
      "10000/10000 [==============================] - 4s 427us/sample - loss: 0.3298 - accuracy: 0.8520 - val_loss: 0.8515 - val_accuracy: 0.4980\n",
      "Epoch 50/50\n",
      "10000/10000 [==============================] - 4s 423us/sample - loss: 0.3230 - accuracy: 0.8562 - val_loss: 0.9934 - val_accuracy: 0.4175\n"
     ]
    },
    {
     "data": {
      "text/plain": [
       "<tensorflow.python.keras.callbacks.History at 0x228317e0b08>"
      ]
     },
     "execution_count": 20,
     "metadata": {},
     "output_type": "execute_result"
    }
   ],
   "source": [
    "# fit the model\n",
    "model.fit(padded_docs, train_label, validation_data=(padded_docs1,test_label), epochs=50, verbose=1)"
   ]
  },
  {
   "cell_type": "code",
   "execution_count": null,
   "metadata": {},
   "outputs": [],
   "source": []
  },
  {
   "cell_type": "code",
   "execution_count": null,
   "metadata": {},
   "outputs": [],
   "source": []
  },
  {
   "cell_type": "code",
   "execution_count": null,
   "metadata": {},
   "outputs": [],
   "source": []
  }
 ],
 "metadata": {
  "kernelspec": {
   "display_name": "Python 3",
   "language": "python",
   "name": "python3"
  },
  "language_info": {
   "codemirror_mode": {
    "name": "ipython",
    "version": 3
   },
   "file_extension": ".py",
   "mimetype": "text/x-python",
   "name": "python",
   "nbconvert_exporter": "python",
   "pygments_lexer": "ipython3",
   "version": "3.7.5"
  }
 },
 "nbformat": 4,
 "nbformat_minor": 2
}
