{
 "cells": [
  {
   "cell_type": "code",
   "execution_count": 1,
   "metadata": {},
   "outputs": [
    {
     "data": {
      "text/html": [
       "<div>\n",
       "<style scoped>\n",
       "    .dataframe tbody tr th:only-of-type {\n",
       "        vertical-align: middle;\n",
       "    }\n",
       "\n",
       "    .dataframe tbody tr th {\n",
       "        vertical-align: top;\n",
       "    }\n",
       "\n",
       "    .dataframe thead th {\n",
       "        text-align: right;\n",
       "    }\n",
       "</style>\n",
       "<table border=\"1\" class=\"dataframe\">\n",
       "  <thead>\n",
       "    <tr style=\"text-align: right;\">\n",
       "      <th></th>\n",
       "      <th>Id</th>\n",
       "      <th>ProductId</th>\n",
       "      <th>UserId</th>\n",
       "      <th>ProfileName</th>\n",
       "      <th>HelpfulnessNumerator</th>\n",
       "      <th>HelpfulnessDenominator</th>\n",
       "      <th>Score</th>\n",
       "      <th>Time</th>\n",
       "      <th>Summary</th>\n",
       "      <th>Text</th>\n",
       "    </tr>\n",
       "  </thead>\n",
       "  <tbody>\n",
       "    <tr>\n",
       "      <th>0</th>\n",
       "      <td>1</td>\n",
       "      <td>B001E4KFG0</td>\n",
       "      <td>A3SGXH7AUHU8GW</td>\n",
       "      <td>delmartian</td>\n",
       "      <td>1</td>\n",
       "      <td>1</td>\n",
       "      <td>5</td>\n",
       "      <td>1303862400</td>\n",
       "      <td>Good Quality Dog Food</td>\n",
       "      <td>I have bought several of the Vitality canned d...</td>\n",
       "    </tr>\n",
       "    <tr>\n",
       "      <th>1</th>\n",
       "      <td>2</td>\n",
       "      <td>B00813GRG4</td>\n",
       "      <td>A1D87F6ZCVE5NK</td>\n",
       "      <td>dll pa</td>\n",
       "      <td>0</td>\n",
       "      <td>0</td>\n",
       "      <td>1</td>\n",
       "      <td>1346976000</td>\n",
       "      <td>Not as Advertised</td>\n",
       "      <td>Product arrived labeled as Jumbo Salted Peanut...</td>\n",
       "    </tr>\n",
       "    <tr>\n",
       "      <th>2</th>\n",
       "      <td>3</td>\n",
       "      <td>B000LQOCH0</td>\n",
       "      <td>ABXLMWJIXXAIN</td>\n",
       "      <td>Natalia Corres \"Natalia Corres\"</td>\n",
       "      <td>1</td>\n",
       "      <td>1</td>\n",
       "      <td>4</td>\n",
       "      <td>1219017600</td>\n",
       "      <td>\"Delight\" says it all</td>\n",
       "      <td>This is a confection that has been around a fe...</td>\n",
       "    </tr>\n",
       "    <tr>\n",
       "      <th>3</th>\n",
       "      <td>4</td>\n",
       "      <td>B000UA0QIQ</td>\n",
       "      <td>A395BORC6FGVXV</td>\n",
       "      <td>Karl</td>\n",
       "      <td>3</td>\n",
       "      <td>3</td>\n",
       "      <td>2</td>\n",
       "      <td>1307923200</td>\n",
       "      <td>Cough Medicine</td>\n",
       "      <td>If you are looking for the secret ingredient i...</td>\n",
       "    </tr>\n",
       "    <tr>\n",
       "      <th>4</th>\n",
       "      <td>5</td>\n",
       "      <td>B006K2ZZ7K</td>\n",
       "      <td>A1UQRSCLF8GW1T</td>\n",
       "      <td>Michael D. Bigham \"M. Wassir\"</td>\n",
       "      <td>0</td>\n",
       "      <td>0</td>\n",
       "      <td>5</td>\n",
       "      <td>1350777600</td>\n",
       "      <td>Great taffy</td>\n",
       "      <td>Great taffy at a great price.  There was a wid...</td>\n",
       "    </tr>\n",
       "  </tbody>\n",
       "</table>\n",
       "</div>"
      ],
      "text/plain": [
       "   Id   ProductId          UserId                      ProfileName  \\\n",
       "0   1  B001E4KFG0  A3SGXH7AUHU8GW                       delmartian   \n",
       "1   2  B00813GRG4  A1D87F6ZCVE5NK                           dll pa   \n",
       "2   3  B000LQOCH0   ABXLMWJIXXAIN  Natalia Corres \"Natalia Corres\"   \n",
       "3   4  B000UA0QIQ  A395BORC6FGVXV                             Karl   \n",
       "4   5  B006K2ZZ7K  A1UQRSCLF8GW1T    Michael D. Bigham \"M. Wassir\"   \n",
       "\n",
       "   HelpfulnessNumerator  HelpfulnessDenominator  Score        Time  \\\n",
       "0                     1                       1      5  1303862400   \n",
       "1                     0                       0      1  1346976000   \n",
       "2                     1                       1      4  1219017600   \n",
       "3                     3                       3      2  1307923200   \n",
       "4                     0                       0      5  1350777600   \n",
       "\n",
       "                 Summary                                               Text  \n",
       "0  Good Quality Dog Food  I have bought several of the Vitality canned d...  \n",
       "1      Not as Advertised  Product arrived labeled as Jumbo Salted Peanut...  \n",
       "2  \"Delight\" says it all  This is a confection that has been around a fe...  \n",
       "3         Cough Medicine  If you are looking for the secret ingredient i...  \n",
       "4            Great taffy  Great taffy at a great price.  There was a wid...  "
      ]
     },
     "execution_count": 1,
     "metadata": {},
     "output_type": "execute_result"
    }
   ],
   "source": [
    "import pandas as pd\n",
    "import numpy as np\n",
    "df1=pd.read_csv('F:/0Sem 7/ML Lab/amazon food review dataset/Reviews.csv')\n",
    "df1.head()"
   ]
  },
  {
   "cell_type": "code",
   "execution_count": 2,
   "metadata": {},
   "outputs": [
    {
     "name": "stdout",
     "output_type": "stream",
     "text": [
      "(568454,) (568454,) (568454, 2)\n"
     ]
    }
   ],
   "source": [
    "score=df1.values[:,6]\n",
    "text=df1.values[:,9]\n",
    "reviews=np.vstack((score,text)).T\n",
    "print(score.shape, text.shape, reviews.shape)"
   ]
  },
  {
   "cell_type": "code",
   "execution_count": 3,
   "metadata": {},
   "outputs": [],
   "source": [
    "p=0\n",
    "n=0\n",
    "for i in range(reviews.shape[0]):\n",
    "    if reviews[i,0] > 3:\n",
    "        reviews[i,0]=0 #positive review\n",
    "        p=p+1\n",
    "    else:\n",
    "        reviews[i,0]=1 #negative review\n",
    "        n=n+1"
   ]
  },
  {
   "cell_type": "code",
   "execution_count": 4,
   "metadata": {},
   "outputs": [],
   "source": [
    "reviews = reviews[reviews[:,0].argsort()]   #sort by 1st column"
   ]
  },
  {
   "cell_type": "code",
   "execution_count": 5,
   "metadata": {},
   "outputs": [
    {
     "data": {
      "text/plain": [
       "(10000, 2)"
      ]
     },
     "execution_count": 5,
     "metadata": {},
     "output_type": "execute_result"
    }
   ],
   "source": [
    "train=[]\n",
    "for i in range(5000):\n",
    "    train.append(reviews[i])\n",
    "    \n",
    "for i in range(443777,443777+5000):\n",
    "    train.append(reviews[i])\n",
    "    \n",
    "train=np.asarray(train)\n",
    "train.shape"
   ]
  },
  {
   "cell_type": "code",
   "execution_count": 6,
   "metadata": {},
   "outputs": [],
   "source": [
    "my_reviews1=np.array([0,'This is a very good product. I am very happy with this item.'])\n",
    "my_reviews2=np.array([1,'The product is very bad. I am very unsatisfied with the appearance.'])\n",
    "my_reviews3=np.array([0,'It was one if the best items i have purchased. Very good.'])\n",
    "my_reviews4=np.array([0,'All members of my family enjoyed the item. It is well thought.'])\n",
    "my_reviews5=np.array([1,'Extremely poor quality. I hated the item and so did my brothers.'])\n",
    "\n",
    "#train=np.vstack((train,my_reviews1))\n",
    "#train=np.vstack((train,my_reviews2))\n",
    "#train=np.vstack((train,my_reviews3))\n",
    "#train=np.vstack((train,my_reviews4))\n",
    "#train=np.vstack((train,my_reviews5))"
   ]
  },
  {
   "cell_type": "code",
   "execution_count": null,
   "metadata": {},
   "outputs": [],
   "source": []
  },
  {
   "cell_type": "code",
   "execution_count": null,
   "metadata": {},
   "outputs": [],
   "source": []
  },
  {
   "cell_type": "code",
   "execution_count": 7,
   "metadata": {},
   "outputs": [
    {
     "data": {
      "text/plain": [
       "(2000, 2)"
      ]
     },
     "execution_count": 7,
     "metadata": {},
     "output_type": "execute_result"
    }
   ],
   "source": [
    "import random as r\n",
    "test=[]\n",
    "for i in range(2000):\n",
    "    index=r.randint(0,reviews.shape[0])\n",
    "    test.append(reviews[index])\n",
    "    \n",
    "test=np.asarray(test)\n",
    "test.shape"
   ]
  },
  {
   "cell_type": "code",
   "execution_count": 8,
   "metadata": {},
   "outputs": [],
   "source": [
    "#test=np.vstack((test,my_reviews1))\n",
    "#test=np.vstack((test,my_reviews2))\n",
    "#test=np.vstack((test,my_reviews3))\n",
    "#test=np.vstack((test,my_reviews4))\n",
    "#test=np.vstack((test,my_reviews5))"
   ]
  },
  {
   "cell_type": "code",
   "execution_count": null,
   "metadata": {},
   "outputs": [],
   "source": []
  },
  {
   "cell_type": "code",
   "execution_count": 9,
   "metadata": {},
   "outputs": [],
   "source": [
    "train_all_words=[]\n",
    "for i in range(train.shape[0]):\n",
    "    train_all_words.append(train[i,1].split())\n",
    "    \n",
    "train_all_words = [item for sublist in train_all_words for item in sublist]\n",
    "\n",
    "test_all_words=[]\n",
    "for i in range(test.shape[0]):\n",
    "    test_all_words.append(test[i,1].split())\n",
    "    \n",
    "test_all_words = [item for sublist in test_all_words for item in sublist]\n",
    "\n",
    "from collections import Counter\n",
    "def common_words(words, number_of_words, reverse=False):\n",
    "    counter = Counter(words)\n",
    "    return sorted(counter, key = counter.get, reverse=reverse)[:number_of_words]\n",
    "\n",
    "train_least_common=common_words(train_all_words,200)\n",
    "train_most_common=common_words(train_all_words,200,reverse=True)\n",
    "\n",
    "test_least_common=common_words(test_all_words,200)\n",
    "test_most_common=common_words(test_all_words,200,reverse=True)"
   ]
  },
  {
   "cell_type": "code",
   "execution_count": 10,
   "metadata": {},
   "outputs": [],
   "source": [
    "for i in range(train.shape[0]):\n",
    "    train[i,1]=train[i,1].split()\n",
    "    \n",
    "for i in range(test.shape[0]):\n",
    "    test[i,1]=test[i,1].split()"
   ]
  },
  {
   "cell_type": "code",
   "execution_count": null,
   "metadata": {},
   "outputs": [],
   "source": []
  },
  {
   "cell_type": "code",
   "execution_count": 11,
   "metadata": {},
   "outputs": [],
   "source": [
    "for i in range(train.shape[0]):\n",
    "    for item in train_most_common:\n",
    "        if item in train[i,1]:\n",
    "            train[i,1].remove(item)\n",
    "    for item in train_least_common:\n",
    "        if item in train[i,1]:\n",
    "            train[i,1].remove(item)\n",
    "            \n",
    "for i in range(test.shape[0]):\n",
    "    for item in test_most_common:\n",
    "        if item in test[i,1]:\n",
    "            test[i,1].remove(item)\n",
    "    for item in test_least_common:\n",
    "        if item in test[i,1]:\n",
    "            test[i,1].remove(item)"
   ]
  },
  {
   "cell_type": "code",
   "execution_count": 12,
   "metadata": {},
   "outputs": [],
   "source": [
    "for i in range(train.shape[0]):\n",
    "    train[i,1]=\" \".join(train[i,1])\n",
    "    \n",
    "for i in range(test.shape[0]):\n",
    "    test[i,1]=\" \".join(test[i,1])"
   ]
  },
  {
   "cell_type": "code",
   "execution_count": 13,
   "metadata": {},
   "outputs": [],
   "source": [
    "train_docs=[]\n",
    "test_docs=[]\n",
    "train_label=[]\n",
    "test_label=[]\n",
    "for i in range(train.shape[0]):\n",
    "    train_docs.append(train[i,1])\n",
    "    train_label.append(train[i,0])\n",
    "    \n",
    "for i in range(test.shape[0]):\n",
    "    test_docs.append(test[i,1])\n",
    "    test_label.append(test[i,0])"
   ]
  },
  {
   "cell_type": "code",
   "execution_count": 14,
   "metadata": {},
   "outputs": [
    {
     "name": "stderr",
     "output_type": "stream",
     "text": [
      "Using TensorFlow backend.\n"
     ]
    }
   ],
   "source": [
    "from numpy import array\n",
    "from numpy import asarray\n",
    "from numpy import zeros\n",
    "from keras.preprocessing.text import Tokenizer\n",
    "from keras.preprocessing.sequence import pad_sequences\n",
    "from keras.models import Sequential\n",
    "from keras.layers import Dense\n",
    "from keras.layers import Flatten\n",
    "from keras.layers import Embedding\n",
    "\n",
    "# prepare tokenizer\n",
    "t = Tokenizer()\n",
    "t.fit_on_texts(train_docs)\n",
    "vocab_size = len(t.word_index) + 1\n",
    "#integer encode the documents\n",
    "encoded_docs = t.texts_to_sequences(train_docs)\n",
    "\n",
    "#print(encoded_docs)\n",
    "#pad documents to a max length of 4 words\n",
    "\n",
    "max_length = 100\n",
    "padded_docs = pad_sequences(encoded_docs, maxlen=max_length, padding='post')\n",
    "\n",
    "#print(padded_docs)\n",
    "#load the whole embedding into memory\n",
    "\n",
    "embeddings_index = dict()\n",
    "f = open('F:/0Sem 7/ML Lab/glove/glove.6B.100d.txt',encoding='utf8')\n",
    "for line in f:\n",
    "    values = line.split()\n",
    "    word = values[0]\n",
    "    coefs = asarray(values[1:], dtype='float32')\n",
    "    embeddings_index[word] = coefs\n",
    "f.close()\n",
    "\n",
    "#print('Loaded %s word vectors.' % len(embeddings_index))\n",
    "\n",
    "#create a weight matrix for words in training docs\n",
    "embedding_matrix = zeros((vocab_size, 100))\n",
    "for word, i in t.word_index.items():\n",
    "    embedding_vector = embeddings_index.get(word)\n",
    "    if embedding_vector is not None:\n",
    "        embedding_matrix[i] = embedding_vector"
   ]
  },
  {
   "cell_type": "code",
   "execution_count": 15,
   "metadata": {},
   "outputs": [
    {
     "data": {
      "text/plain": [
       "(19814, 100)"
      ]
     },
     "execution_count": 15,
     "metadata": {},
     "output_type": "execute_result"
    }
   ],
   "source": [
    "embedding_matrix.shape"
   ]
  },
  {
   "cell_type": "code",
   "execution_count": null,
   "metadata": {},
   "outputs": [],
   "source": []
  },
  {
   "cell_type": "code",
   "execution_count": 16,
   "metadata": {},
   "outputs": [],
   "source": [
    "import tensorflow as tf\n",
    "from tensorflow.keras import layers\n",
    "from tensorflow.keras.models import Sequential\n",
    "\n",
    "#define model\n",
    "model = Sequential()\n",
    "e = tf.keras.layers.Embedding(vocab_size, 100, weights=[embedding_matrix], input_length=100, trainable=False)\n",
    "model.add(e)\n",
    "model.add(layers.GRU(64, activation='relu', return_sequences=True))\n",
    "model.add(layers.GRU(128, activation='relu', return_sequences=False))\n",
    "model.add(layers.Flatten())\n",
    "model.add(layers.Dense(256, activation='relu'))\n",
    "model.add(layers.Dense(1, activation='sigmoid'))"
   ]
  },
  {
   "cell_type": "code",
   "execution_count": 17,
   "metadata": {},
   "outputs": [
    {
     "name": "stdout",
     "output_type": "stream",
     "text": [
      "Model: \"sequential\"\n",
      "_________________________________________________________________\n",
      "Layer (type)                 Output Shape              Param #   \n",
      "=================================================================\n",
      "embedding (Embedding)        (None, 100, 100)          1981400   \n",
      "_________________________________________________________________\n",
      "gru (GRU)                    (None, 100, 64)           31872     \n",
      "_________________________________________________________________\n",
      "gru_1 (GRU)                  (None, 128)               74496     \n",
      "_________________________________________________________________\n",
      "flatten (Flatten)            (None, 128)               0         \n",
      "_________________________________________________________________\n",
      "dense (Dense)                (None, 256)               33024     \n",
      "_________________________________________________________________\n",
      "dense_1 (Dense)              (None, 1)                 257       \n",
      "=================================================================\n",
      "Total params: 2,121,049\n",
      "Trainable params: 139,649\n",
      "Non-trainable params: 1,981,400\n",
      "_________________________________________________________________\n",
      "None\n"
     ]
    }
   ],
   "source": [
    "# compile the model\n",
    "model.compile(optimizer='adam', loss='binary_crossentropy', metrics=['accuracy'])\n",
    "# summarize the model\n",
    "print(model.summary())"
   ]
  },
  {
   "cell_type": "code",
   "execution_count": 18,
   "metadata": {},
   "outputs": [
    {
     "name": "stdout",
     "output_type": "stream",
     "text": [
      "(None, 100, 100)\n",
      "(None, 100, 64)\n",
      "(None, 128)\n",
      "(None, 128)\n",
      "(None, 256)\n",
      "(None, 1)\n"
     ]
    }
   ],
   "source": [
    "for layer in model.layers:\n",
    "    print(layer.output_shape)"
   ]
  },
  {
   "cell_type": "code",
   "execution_count": 19,
   "metadata": {},
   "outputs": [
    {
     "data": {
      "text/plain": [
       "(10000,)"
      ]
     },
     "execution_count": 19,
     "metadata": {},
     "output_type": "execute_result"
    }
   ],
   "source": [
    "train_label=np.asarray(train_label)\n",
    "train_label.shape"
   ]
  },
  {
   "cell_type": "code",
   "execution_count": null,
   "metadata": {},
   "outputs": [],
   "source": []
  },
  {
   "cell_type": "code",
   "execution_count": 20,
   "metadata": {
    "scrolled": true
   },
   "outputs": [
    {
     "data": {
      "text/plain": [
       "(10000, 100)"
      ]
     },
     "execution_count": 20,
     "metadata": {},
     "output_type": "execute_result"
    }
   ],
   "source": [
    "padded_docs.shape"
   ]
  },
  {
   "cell_type": "code",
   "execution_count": 21,
   "metadata": {},
   "outputs": [],
   "source": [
    "# prepare tokenizer\n",
    "t1 = Tokenizer()\n",
    "t1.fit_on_texts(test_docs)\n",
    "vocab_size1 = len(t1.word_index) + 1\n",
    "#integer encode the documents\n",
    "encoded_docs1 = t1.texts_to_sequences(test_docs)\n",
    "\n",
    "#print(encoded_docs)\n",
    "#pad documents to a max length of 4 words\n",
    "\n",
    "max_length1 = 100\n",
    "padded_docs1 = pad_sequences(encoded_docs1, maxlen=max_length1, padding='post')\n",
    "test_label=np.asarray(test_label)\n",
    "#print(padded_docs)"
   ]
  },
  {
   "cell_type": "code",
   "execution_count": 22,
   "metadata": {},
   "outputs": [
    {
     "name": "stdout",
     "output_type": "stream",
     "text": [
      "Train on 10000 samples, validate on 2000 samples\n",
      "Epoch 1/50\n",
      "10000/10000 [==============================] - 102s 10ms/sample - loss: 0.6919 - accuracy: 0.5100 - val_loss: 0.7092 - val_accuracy: 0.7130\n",
      "Epoch 2/50\n",
      "10000/10000 [==============================] - 91s 9ms/sample - loss: 0.6886 - accuracy: 0.5231 - val_loss: 0.6941 - val_accuracy: 0.7370\n",
      "Epoch 3/50\n",
      "10000/10000 [==============================] - 97s 10ms/sample - loss: 0.6785 - accuracy: 0.5321 - val_loss: 0.8825 - val_accuracy: 0.7010\n",
      "Epoch 4/50\n",
      "10000/10000 [==============================] - 103s 10ms/sample - loss: 0.6631 - accuracy: 0.5506 - val_loss: 0.7053 - val_accuracy: 0.7305\n",
      "Epoch 5/50\n",
      "10000/10000 [==============================] - 103s 10ms/sample - loss: 0.6582 - accuracy: 0.5467 - val_loss: 0.7537 - val_accuracy: 0.7285\n",
      "Epoch 6/50\n",
      "10000/10000 [==============================] - 103s 10ms/sample - loss: 0.6372 - accuracy: 0.5608 - val_loss: 0.7749 - val_accuracy: 0.7215\n",
      "Epoch 7/50\n",
      "10000/10000 [==============================] - 105s 10ms/sample - loss: 0.6245 - accuracy: 0.5689 - val_loss: 0.8267 - val_accuracy: 0.7380\n",
      "Epoch 8/50\n",
      "10000/10000 [==============================] - 106s 11ms/sample - loss: 0.6204 - accuracy: 0.5746 - val_loss: 0.8414 - val_accuracy: 0.7285\n",
      "Epoch 9/50\n",
      "10000/10000 [==============================] - 104s 10ms/sample - loss: 0.6690 - accuracy: 0.5579 - val_loss: 0.8447 - val_accuracy: 0.6325\n",
      "Epoch 10/50\n",
      "10000/10000 [==============================] - 104s 10ms/sample - loss: 0.5094 - accuracy: 0.7537 - val_loss: 0.9207 - val_accuracy: 0.5345\n",
      "Epoch 11/50\n",
      "10000/10000 [==============================] - 107s 11ms/sample - loss: 0.4143 - accuracy: 0.8159 - val_loss: 1.4904 - val_accuracy: 0.3710\n",
      "Epoch 12/50\n",
      "10000/10000 [==============================] - 104s 10ms/sample - loss: 0.3714 - accuracy: 0.8414 - val_loss: 1.0560 - val_accuracy: 0.4965\n",
      "Epoch 13/50\n",
      "10000/10000 [==============================] - 103s 10ms/sample - loss: 0.3272 - accuracy: 0.8587 - val_loss: 1.3107 - val_accuracy: 0.4715\n",
      "Epoch 14/50\n",
      "10000/10000 [==============================] - 103s 10ms/sample - loss: 0.2995 - accuracy: 0.8726 - val_loss: 1.3346 - val_accuracy: 0.4780\n",
      "Epoch 15/50\n",
      "10000/10000 [==============================] - 103s 10ms/sample - loss: 0.2717 - accuracy: 0.8905 - val_loss: 1.1893 - val_accuracy: 0.5865\n",
      "Epoch 16/50\n",
      "10000/10000 [==============================] - 104s 10ms/sample - loss: 0.2700 - accuracy: 0.8924 - val_loss: 1.5112 - val_accuracy: 0.4800\n",
      "Epoch 17/50\n",
      "10000/10000 [==============================] - 106s 11ms/sample - loss: 0.2172 - accuracy: 0.9167 - val_loss: 1.6621 - val_accuracy: 0.4635\n",
      "Epoch 18/50\n",
      "10000/10000 [==============================] - 107s 11ms/sample - loss: 0.1921 - accuracy: 0.9314 - val_loss: 1.6968 - val_accuracy: 0.4910\n",
      "Epoch 19/50\n",
      "10000/10000 [==============================] - 103s 10ms/sample - loss: 0.1569 - accuracy: 0.9453 - val_loss: 1.7399 - val_accuracy: 0.4955\n",
      "Epoch 20/50\n",
      "10000/10000 [==============================] - 102s 10ms/sample - loss: 0.1389 - accuracy: 0.9560 - val_loss: 1.6815 - val_accuracy: 0.5275\n",
      "Epoch 21/50\n",
      "10000/10000 [==============================] - 101s 10ms/sample - loss: 0.1224 - accuracy: 0.9620 - val_loss: 1.9483 - val_accuracy: 0.5055\n",
      "Epoch 22/50\n",
      "10000/10000 [==============================] - 101s 10ms/sample - loss: 0.1098 - accuracy: 0.9658 - val_loss: 2.0798 - val_accuracy: 0.5155\n",
      "Epoch 23/50\n",
      "10000/10000 [==============================] - 104s 10ms/sample - loss: 0.0932 - accuracy: 0.9717 - val_loss: 2.1825 - val_accuracy: 0.5265\n",
      "Epoch 24/50\n",
      "10000/10000 [==============================] - 105s 11ms/sample - loss: 0.0807 - accuracy: 0.9772 - val_loss: 2.7714 - val_accuracy: 0.4595\n",
      "Epoch 25/50\n",
      "10000/10000 [==============================] - 104s 10ms/sample - loss: 0.0856 - accuracy: 0.9746 - val_loss: 2.5670 - val_accuracy: 0.4595\n",
      "Epoch 26/50\n",
      "10000/10000 [==============================] - 106s 11ms/sample - loss: 0.1305 - accuracy: 0.9597 - val_loss: 2.5673 - val_accuracy: 0.4665\n",
      "Epoch 27/50\n",
      "10000/10000 [==============================] - 105s 10ms/sample - loss: 0.0595 - accuracy: 0.9845 - val_loss: 2.2332 - val_accuracy: 0.5390\n",
      "Epoch 28/50\n",
      "10000/10000 [==============================] - 107s 11ms/sample - loss: 0.0610 - accuracy: 0.9842 - val_loss: 2.1963 - val_accuracy: 0.5605\n",
      "Epoch 29/50\n",
      "10000/10000 [==============================] - 104s 10ms/sample - loss: 0.0575 - accuracy: 0.9849 - val_loss: 3.1901 - val_accuracy: 0.4515\n",
      "Epoch 30/50\n",
      "10000/10000 [==============================] - 102s 10ms/sample - loss: 0.0564 - accuracy: 0.9853 - val_loss: 2.7517 - val_accuracy: 0.5210\n",
      "Epoch 31/50\n",
      "10000/10000 [==============================] - 102s 10ms/sample - loss: 0.0512 - accuracy: 0.9868 - val_loss: 3.4513 - val_accuracy: 0.4770\n",
      "Epoch 32/50\n",
      "10000/10000 [==============================] - 102s 10ms/sample - loss: 0.0530 - accuracy: 0.9873 - val_loss: 2.4392 - val_accuracy: 0.5210\n",
      "Epoch 33/50\n",
      "10000/10000 [==============================] - 103s 10ms/sample - loss: 0.0487 - accuracy: 0.9878 - val_loss: 3.3748 - val_accuracy: 0.4885\n",
      "Epoch 34/50\n",
      "10000/10000 [==============================] - 103s 10ms/sample - loss: 0.0537 - accuracy: 0.9855 - val_loss: 3.0033 - val_accuracy: 0.5245\n",
      "Epoch 35/50\n",
      "10000/10000 [==============================] - 103s 10ms/sample - loss: 0.0475 - accuracy: 0.9880 - val_loss: 3.4914 - val_accuracy: 0.5180\n",
      "Epoch 36/50\n",
      "10000/10000 [==============================] - 103s 10ms/sample - loss: 0.0558 - accuracy: 0.9858 - val_loss: 2.9222 - val_accuracy: 0.5140\n",
      "Epoch 37/50\n",
      "10000/10000 [==============================] - 102s 10ms/sample - loss: 0.0536 - accuracy: 0.9863 - val_loss: 3.2071 - val_accuracy: 0.4805\n",
      "Epoch 38/50\n",
      "10000/10000 [==============================] - 101s 10ms/sample - loss: 0.0404 - accuracy: 0.9906 - val_loss: 3.6927 - val_accuracy: 0.4810\n",
      "Epoch 39/50\n",
      "10000/10000 [==============================] - 101s 10ms/sample - loss: 0.0492 - accuracy: 0.9876 - val_loss: 3.4045 - val_accuracy: 0.4650\n",
      "Epoch 40/50\n",
      "10000/10000 [==============================] - 101s 10ms/sample - loss: 0.0445 - accuracy: 0.9899 - val_loss: 4.1374 - val_accuracy: 0.4715\n",
      "Epoch 41/50\n",
      "10000/10000 [==============================] - 102s 10ms/sample - loss: 0.0388 - accuracy: 0.9910 - val_loss: 3.8429 - val_accuracy: 0.5215\n",
      "Epoch 42/50\n",
      "10000/10000 [==============================] - 103s 10ms/sample - loss: 0.0497 - accuracy: 0.9871 - val_loss: 2.9923 - val_accuracy: 0.5590\n",
      "Epoch 43/50\n",
      "10000/10000 [==============================] - 103s 10ms/sample - loss: 0.0368 - accuracy: 0.9921 - val_loss: 3.9067 - val_accuracy: 0.5150\n",
      "Epoch 44/50\n",
      "10000/10000 [==============================] - 103s 10ms/sample - loss: 0.0497 - accuracy: 0.9879 - val_loss: 3.3951 - val_accuracy: 0.5095\n",
      "Epoch 45/50\n",
      "10000/10000 [==============================] - 103s 10ms/sample - loss: 0.0373 - accuracy: 0.9919 - val_loss: 2.9581 - val_accuracy: 0.5565\n",
      "Epoch 46/50\n",
      "10000/10000 [==============================] - 103s 10ms/sample - loss: 0.0358 - accuracy: 0.9924 - val_loss: 3.3451 - val_accuracy: 0.5530\n",
      "Epoch 47/50\n",
      "10000/10000 [==============================] - 102s 10ms/sample - loss: 0.0459 - accuracy: 0.9889 - val_loss: 3.1258 - val_accuracy: 0.5245\n",
      "Epoch 48/50\n",
      "10000/10000 [==============================] - 106s 11ms/sample - loss: 0.0523 - accuracy: 0.9861 - val_loss: 3.1512 - val_accuracy: 0.5165\n",
      "Epoch 49/50\n",
      "10000/10000 [==============================] - 102s 10ms/sample - loss: 0.0343 - accuracy: 0.9926 - val_loss: 3.6924 - val_accuracy: 0.5015\n",
      "Epoch 50/50\n",
      "10000/10000 [==============================] - 105s 11ms/sample - loss: 0.0387 - accuracy: 0.9909 - val_loss: 4.4017 - val_accuracy: 0.4520\n"
     ]
    },
    {
     "data": {
      "text/plain": [
       "<tensorflow.python.keras.callbacks.History at 0x207b2b678c8>"
      ]
     },
     "execution_count": 22,
     "metadata": {},
     "output_type": "execute_result"
    }
   ],
   "source": [
    "# fit the model\n",
    "model.fit(padded_docs, train_label, validation_data=(padded_docs1,test_label), epochs=50, verbose=1)"
   ]
  },
  {
   "cell_type": "code",
   "execution_count": null,
   "metadata": {},
   "outputs": [],
   "source": []
  },
  {
   "cell_type": "code",
   "execution_count": null,
   "metadata": {},
   "outputs": [],
   "source": []
  },
  {
   "cell_type": "code",
   "execution_count": null,
   "metadata": {},
   "outputs": [],
   "source": []
  },
  {
   "cell_type": "code",
   "execution_count": null,
   "metadata": {},
   "outputs": [],
   "source": []
  },
  {
   "cell_type": "code",
   "execution_count": null,
   "metadata": {},
   "outputs": [],
   "source": []
  },
  {
   "cell_type": "code",
   "execution_count": 23,
   "metadata": {},
   "outputs": [
    {
     "data": {
      "text/plain": [
       "'Bidirectional Model'"
      ]
     },
     "execution_count": 23,
     "metadata": {},
     "output_type": "execute_result"
    }
   ],
   "source": [
    "\"Bidirectional Model\""
   ]
  },
  {
   "cell_type": "code",
   "execution_count": 24,
   "metadata": {},
   "outputs": [
    {
     "name": "stdout",
     "output_type": "stream",
     "text": [
      "Model: \"sequential_1\"\n",
      "_________________________________________________________________\n",
      "Layer (type)                 Output Shape              Param #   \n",
      "=================================================================\n",
      "embedding_1 (Embedding)      (None, 100, 100)          1981400   \n",
      "_________________________________________________________________\n",
      "bidirectional (Bidirectional (None, 100, 128)          84480     \n",
      "_________________________________________________________________\n",
      "bidirectional_1 (Bidirection (None, 256)               263168    \n",
      "_________________________________________________________________\n",
      "flatten_1 (Flatten)          (None, 256)               0         \n",
      "_________________________________________________________________\n",
      "dense_2 (Dense)              (None, 256)               65792     \n",
      "_________________________________________________________________\n",
      "dense_3 (Dense)              (None, 1)                 257       \n",
      "=================================================================\n",
      "Total params: 2,395,097\n",
      "Trainable params: 413,697\n",
      "Non-trainable params: 1,981,400\n",
      "_________________________________________________________________\n",
      "None\n"
     ]
    }
   ],
   "source": [
    "#define model\n",
    "model1 = Sequential()\n",
    "e = tf.keras.layers.Embedding(vocab_size, 100, weights=[embedding_matrix], input_length=100, trainable=False)\n",
    "model1.add(e)\n",
    "model1.add(layers.Bidirectional(layers.LSTM(64, activation='relu', return_sequences=True)))\n",
    "model1.add(layers.Bidirectional(layers.LSTM(128, activation='relu', return_sequences=False)))\n",
    "model1.add(layers.Flatten())\n",
    "model1.add(layers.Dense(256,activation='relu'))\n",
    "model1.add(layers.Dense(1, activation='sigmoid'))\n",
    "\n",
    "# compile the model\n",
    "model1.compile(optimizer='adam', loss='binary_crossentropy', metrics=['accuracy'])\n",
    "# summarize the model\n",
    "print(model1.summary())"
   ]
  },
  {
   "cell_type": "code",
   "execution_count": 26,
   "metadata": {},
   "outputs": [
    {
     "name": "stdout",
     "output_type": "stream",
     "text": [
      "Train on 10000 samples, validate on 2000 samples\n",
      "Epoch 1/50\n",
      "10000/10000 [==============================] - 114s 11ms/sample - loss: 0.6932 - accuracy: 0.4954 - val_loss: 0.6933 - val_accuracy: 0.2260\n",
      "Epoch 2/50\n",
      "10000/10000 [==============================] - 133s 13ms/sample - loss: 0.6932 - accuracy: 0.4902 - val_loss: 0.6938 - val_accuracy: 0.2260\n",
      "Epoch 3/50\n",
      "10000/10000 [==============================] - 134s 13ms/sample - loss: 0.6932 - accuracy: 0.4898 - val_loss: 0.6930 - val_accuracy: 0.7740\n",
      "Epoch 4/50\n",
      "10000/10000 [==============================] - 138s 14ms/sample - loss: 0.6932 - accuracy: 0.4958 - val_loss: 0.6922 - val_accuracy: 0.7740\n",
      "Epoch 5/50\n",
      "10000/10000 [==============================] - 139s 14ms/sample - loss: 0.6932 - accuracy: 0.4974 - val_loss: 0.6929 - val_accuracy: 0.7740\n",
      "Epoch 6/50\n",
      "10000/10000 [==============================] - 138s 14ms/sample - loss: 0.6932 - accuracy: 0.5004 - val_loss: 0.6929 - val_accuracy: 0.7740\n",
      "Epoch 7/50\n",
      "10000/10000 [==============================] - 138s 14ms/sample - loss: 0.6932 - accuracy: 0.4966 - val_loss: 0.6929 - val_accuracy: 0.7740\n",
      "Epoch 8/50\n",
      "10000/10000 [==============================] - 139s 14ms/sample - loss: 0.6932 - accuracy: 0.5010 - val_loss: 0.6942 - val_accuracy: 0.2260\n",
      "Epoch 9/50\n",
      "10000/10000 [==============================] - 134s 13ms/sample - loss: 0.6932 - accuracy: 0.5002 - val_loss: 0.6926 - val_accuracy: 0.7740\n",
      "Epoch 10/50\n",
      "10000/10000 [==============================] - 135s 14ms/sample - loss: 0.6932 - accuracy: 0.4998 - val_loss: 0.6936 - val_accuracy: 0.2260\n",
      "Epoch 11/50\n",
      "10000/10000 [==============================] - 136s 14ms/sample - loss: 0.6932 - accuracy: 0.4908 - val_loss: 0.6943 - val_accuracy: 0.2260\n",
      "Epoch 12/50\n",
      "10000/10000 [==============================] - 138s 14ms/sample - loss: 0.6932 - accuracy: 0.4990 - val_loss: 0.6930 - val_accuracy: 0.7740\n",
      "Epoch 13/50\n",
      "10000/10000 [==============================] - 136s 14ms/sample - loss: 0.6932 - accuracy: 0.4956 - val_loss: 0.6931 - val_accuracy: 0.2260\n",
      "Epoch 14/50\n",
      "10000/10000 [==============================] - 139s 14ms/sample - loss: 0.6932 - accuracy: 0.4944 - val_loss: 0.6928 - val_accuracy: 0.7740\n",
      "Epoch 15/50\n",
      "10000/10000 [==============================] - 137s 14ms/sample - loss: 0.6932 - accuracy: 0.5004 - val_loss: 0.6912 - val_accuracy: 0.7740\n",
      "Epoch 16/50\n",
      "10000/10000 [==============================] - 134s 13ms/sample - loss: 0.6932 - accuracy: 0.4930 - val_loss: 0.6931 - val_accuracy: 0.7740\n",
      "Epoch 17/50\n",
      "10000/10000 [==============================] - 141s 14ms/sample - loss: 0.6932 - accuracy: 0.4966 - val_loss: 0.6930 - val_accuracy: 0.7740\n",
      "Epoch 18/50\n",
      "10000/10000 [==============================] - 138s 14ms/sample - loss: 0.6932 - accuracy: 0.4950 - val_loss: 0.6932 - val_accuracy: 0.2260\n",
      "Epoch 19/50\n",
      "10000/10000 [==============================] - 139s 14ms/sample - loss: 0.6932 - accuracy: 0.4928 - val_loss: 0.6942 - val_accuracy: 0.2260\n",
      "Epoch 20/50\n",
      "10000/10000 [==============================] - 138s 14ms/sample - loss: 0.6932 - accuracy: 0.4860 - val_loss: 0.6935 - val_accuracy: 0.2260\n",
      "Epoch 21/50\n",
      "10000/10000 [==============================] - 138s 14ms/sample - loss: 0.6932 - accuracy: 0.4966 - val_loss: 0.6929 - val_accuracy: 0.7740\n",
      "Epoch 22/50\n",
      "10000/10000 [==============================] - 132s 13ms/sample - loss: 0.6932 - accuracy: 0.4966 - val_loss: 0.6918 - val_accuracy: 0.7740\n",
      "Epoch 23/50\n",
      "10000/10000 [==============================] - 136s 14ms/sample - loss: 0.6932 - accuracy: 0.4970 - val_loss: 0.6931 - val_accuracy: 0.7740\n",
      "Epoch 24/50\n",
      "10000/10000 [==============================] - 136s 14ms/sample - loss: 0.6932 - accuracy: 0.4994 - val_loss: 0.6928 - val_accuracy: 0.7740\n",
      "Epoch 25/50\n",
      "10000/10000 [==============================] - 137s 14ms/sample - loss: 0.6932 - accuracy: 0.5014 - val_loss: 0.6938 - val_accuracy: 0.2260\n",
      "Epoch 26/50\n",
      "10000/10000 [==============================] - 137s 14ms/sample - loss: 0.6932 - accuracy: 0.5022 - val_loss: 0.6926 - val_accuracy: 0.7740\n",
      "Epoch 27/50\n",
      "10000/10000 [==============================] - 136s 14ms/sample - loss: 0.6932 - accuracy: 0.4954 - val_loss: 0.6922 - val_accuracy: 0.7740\n",
      "Epoch 28/50\n",
      "10000/10000 [==============================] - 134s 13ms/sample - loss: 0.6932 - accuracy: 0.4970 - val_loss: 0.6941 - val_accuracy: 0.2260\n",
      "Epoch 29/50\n",
      "10000/10000 [==============================] - 131s 13ms/sample - loss: 0.6932 - accuracy: 0.5004 - val_loss: 0.6923 - val_accuracy: 0.7740\n",
      "Epoch 30/50\n",
      "10000/10000 [==============================] - 136s 14ms/sample - loss: 0.6932 - accuracy: 0.4968 - val_loss: 0.6922 - val_accuracy: 0.7740\n",
      "Epoch 31/50\n",
      "10000/10000 [==============================] - 136s 14ms/sample - loss: 0.6932 - accuracy: 0.4896 - val_loss: 0.6929 - val_accuracy: 0.7740\n",
      "Epoch 32/50\n",
      "10000/10000 [==============================] - 137s 14ms/sample - loss: 0.6932 - accuracy: 0.4994 - val_loss: 0.6924 - val_accuracy: 0.7740\n",
      "Epoch 33/50\n",
      "10000/10000 [==============================] - 136s 14ms/sample - loss: 0.6932 - accuracy: 0.4974 - val_loss: 0.6928 - val_accuracy: 0.7740\n",
      "Epoch 34/50\n",
      "10000/10000 [==============================] - 137s 14ms/sample - loss: 0.6932 - accuracy: 0.5002 - val_loss: 0.6935 - val_accuracy: 0.2260\n",
      "Epoch 35/50\n",
      "10000/10000 [==============================] - 132s 13ms/sample - loss: 0.6932 - accuracy: 0.4980 - val_loss: 0.6941 - val_accuracy: 0.2260\n",
      "Epoch 36/50\n",
      "10000/10000 [==============================] - 133s 13ms/sample - loss: 0.6932 - accuracy: 0.4958 - val_loss: 0.6923 - val_accuracy: 0.7740\n",
      "Epoch 37/50\n",
      "10000/10000 [==============================] - 139s 14ms/sample - loss: 0.6932 - accuracy: 0.4910 - val_loss: 0.6932 - val_accuracy: 0.2260\n",
      "Epoch 38/50\n",
      "10000/10000 [==============================] - 138s 14ms/sample - loss: 0.6932 - accuracy: 0.5002 - val_loss: 0.6913 - val_accuracy: 0.7740\n",
      "Epoch 39/50\n",
      "10000/10000 [==============================] - 138s 14ms/sample - loss: 0.6932 - accuracy: 0.4980 - val_loss: 0.6927 - val_accuracy: 0.7740\n",
      "Epoch 40/50\n",
      "10000/10000 [==============================] - 137s 14ms/sample - loss: 0.6932 - accuracy: 0.4882 - val_loss: 0.6933 - val_accuracy: 0.2260\n",
      "Epoch 41/50\n",
      "10000/10000 [==============================] - 138s 14ms/sample - loss: 0.6932 - accuracy: 0.4942 - val_loss: 0.6929 - val_accuracy: 0.7740\n",
      "Epoch 42/50\n",
      "10000/10000 [==============================] - 132s 13ms/sample - loss: 0.6932 - accuracy: 0.4996 - val_loss: 0.6936 - val_accuracy: 0.2260\n",
      "Epoch 43/50\n",
      "10000/10000 [==============================] - 136s 14ms/sample - loss: 0.6932 - accuracy: 0.4998 - val_loss: 0.6931 - val_accuracy: 0.7740\n",
      "Epoch 44/50\n",
      "10000/10000 [==============================] - 142s 14ms/sample - loss: 0.6932 - accuracy: 0.4946 - val_loss: 0.6926 - val_accuracy: 0.7740\n",
      "Epoch 45/50\n",
      "10000/10000 [==============================] - 139s 14ms/sample - loss: 0.6932 - accuracy: 0.4972 - val_loss: 0.6925 - val_accuracy: 0.7740\n",
      "Epoch 46/50\n",
      "10000/10000 [==============================] - 140s 14ms/sample - loss: 0.6932 - accuracy: 0.4998 - val_loss: 0.6922 - val_accuracy: 0.7740\n",
      "Epoch 47/50\n",
      "10000/10000 [==============================] - 138s 14ms/sample - loss: 0.6932 - accuracy: 0.5008 - val_loss: 0.6934 - val_accuracy: 0.2260\n",
      "Epoch 48/50\n",
      "10000/10000 [==============================] - 137s 14ms/sample - loss: 0.6932 - accuracy: 0.4998 - val_loss: 0.6925 - val_accuracy: 0.7740\n",
      "Epoch 49/50\n",
      "10000/10000 [==============================] - 140s 14ms/sample - loss: 0.6932 - accuracy: 0.4944 - val_loss: 0.6918 - val_accuracy: 0.7740\n",
      "Epoch 50/50\n",
      "10000/10000 [==============================] - 141s 14ms/sample - loss: 0.6932 - accuracy: 0.4956 - val_loss: 0.6916 - val_accuracy: 0.7740\n"
     ]
    }
   ],
   "source": [
    "# fit the model\n",
    "history1=model1.fit(padded_docs, train_label, validation_data=(padded_docs1,test_label), epochs=50, verbose=1)"
   ]
  },
  {
   "cell_type": "code",
   "execution_count": null,
   "metadata": {},
   "outputs": [],
   "source": []
  },
  {
   "cell_type": "code",
   "execution_count": null,
   "metadata": {},
   "outputs": [],
   "source": []
  },
  {
   "cell_type": "code",
   "execution_count": null,
   "metadata": {},
   "outputs": [],
   "source": []
  },
  {
   "cell_type": "code",
   "execution_count": null,
   "metadata": {},
   "outputs": [],
   "source": []
  }
 ],
 "metadata": {
  "kernelspec": {
   "display_name": "Python 3",
   "language": "python",
   "name": "python3"
  },
  "language_info": {
   "codemirror_mode": {
    "name": "ipython",
    "version": 3
   },
   "file_extension": ".py",
   "mimetype": "text/x-python",
   "name": "python",
   "nbconvert_exporter": "python",
   "pygments_lexer": "ipython3",
   "version": "3.7.5"
  }
 },
 "nbformat": 4,
 "nbformat_minor": 2
}
