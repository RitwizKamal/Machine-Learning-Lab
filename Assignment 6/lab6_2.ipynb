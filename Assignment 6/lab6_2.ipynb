{
 "cells": [
  {
   "cell_type": "code",
   "execution_count": 1,
   "metadata": {},
   "outputs": [
    {
     "data": {
      "text/html": [
       "<div>\n",
       "<style scoped>\n",
       "    .dataframe tbody tr th:only-of-type {\n",
       "        vertical-align: middle;\n",
       "    }\n",
       "\n",
       "    .dataframe tbody tr th {\n",
       "        vertical-align: top;\n",
       "    }\n",
       "\n",
       "    .dataframe thead th {\n",
       "        text-align: right;\n",
       "    }\n",
       "</style>\n",
       "<table border=\"1\" class=\"dataframe\">\n",
       "  <thead>\n",
       "    <tr style=\"text-align: right;\">\n",
       "      <th></th>\n",
       "      <th>Id</th>\n",
       "      <th>ProductId</th>\n",
       "      <th>UserId</th>\n",
       "      <th>ProfileName</th>\n",
       "      <th>HelpfulnessNumerator</th>\n",
       "      <th>HelpfulnessDenominator</th>\n",
       "      <th>Score</th>\n",
       "      <th>Time</th>\n",
       "      <th>Summary</th>\n",
       "      <th>Text</th>\n",
       "    </tr>\n",
       "  </thead>\n",
       "  <tbody>\n",
       "    <tr>\n",
       "      <th>0</th>\n",
       "      <td>1</td>\n",
       "      <td>B001E4KFG0</td>\n",
       "      <td>A3SGXH7AUHU8GW</td>\n",
       "      <td>delmartian</td>\n",
       "      <td>1</td>\n",
       "      <td>1</td>\n",
       "      <td>5</td>\n",
       "      <td>1303862400</td>\n",
       "      <td>Good Quality Dog Food</td>\n",
       "      <td>I have bought several of the Vitality canned d...</td>\n",
       "    </tr>\n",
       "    <tr>\n",
       "      <th>1</th>\n",
       "      <td>2</td>\n",
       "      <td>B00813GRG4</td>\n",
       "      <td>A1D87F6ZCVE5NK</td>\n",
       "      <td>dll pa</td>\n",
       "      <td>0</td>\n",
       "      <td>0</td>\n",
       "      <td>1</td>\n",
       "      <td>1346976000</td>\n",
       "      <td>Not as Advertised</td>\n",
       "      <td>Product arrived labeled as Jumbo Salted Peanut...</td>\n",
       "    </tr>\n",
       "    <tr>\n",
       "      <th>2</th>\n",
       "      <td>3</td>\n",
       "      <td>B000LQOCH0</td>\n",
       "      <td>ABXLMWJIXXAIN</td>\n",
       "      <td>Natalia Corres \"Natalia Corres\"</td>\n",
       "      <td>1</td>\n",
       "      <td>1</td>\n",
       "      <td>4</td>\n",
       "      <td>1219017600</td>\n",
       "      <td>\"Delight\" says it all</td>\n",
       "      <td>This is a confection that has been around a fe...</td>\n",
       "    </tr>\n",
       "    <tr>\n",
       "      <th>3</th>\n",
       "      <td>4</td>\n",
       "      <td>B000UA0QIQ</td>\n",
       "      <td>A395BORC6FGVXV</td>\n",
       "      <td>Karl</td>\n",
       "      <td>3</td>\n",
       "      <td>3</td>\n",
       "      <td>2</td>\n",
       "      <td>1307923200</td>\n",
       "      <td>Cough Medicine</td>\n",
       "      <td>If you are looking for the secret ingredient i...</td>\n",
       "    </tr>\n",
       "    <tr>\n",
       "      <th>4</th>\n",
       "      <td>5</td>\n",
       "      <td>B006K2ZZ7K</td>\n",
       "      <td>A1UQRSCLF8GW1T</td>\n",
       "      <td>Michael D. Bigham \"M. Wassir\"</td>\n",
       "      <td>0</td>\n",
       "      <td>0</td>\n",
       "      <td>5</td>\n",
       "      <td>1350777600</td>\n",
       "      <td>Great taffy</td>\n",
       "      <td>Great taffy at a great price.  There was a wid...</td>\n",
       "    </tr>\n",
       "  </tbody>\n",
       "</table>\n",
       "</div>"
      ],
      "text/plain": [
       "   Id   ProductId          UserId                      ProfileName  \\\n",
       "0   1  B001E4KFG0  A3SGXH7AUHU8GW                       delmartian   \n",
       "1   2  B00813GRG4  A1D87F6ZCVE5NK                           dll pa   \n",
       "2   3  B000LQOCH0   ABXLMWJIXXAIN  Natalia Corres \"Natalia Corres\"   \n",
       "3   4  B000UA0QIQ  A395BORC6FGVXV                             Karl   \n",
       "4   5  B006K2ZZ7K  A1UQRSCLF8GW1T    Michael D. Bigham \"M. Wassir\"   \n",
       "\n",
       "   HelpfulnessNumerator  HelpfulnessDenominator  Score        Time  \\\n",
       "0                     1                       1      5  1303862400   \n",
       "1                     0                       0      1  1346976000   \n",
       "2                     1                       1      4  1219017600   \n",
       "3                     3                       3      2  1307923200   \n",
       "4                     0                       0      5  1350777600   \n",
       "\n",
       "                 Summary                                               Text  \n",
       "0  Good Quality Dog Food  I have bought several of the Vitality canned d...  \n",
       "1      Not as Advertised  Product arrived labeled as Jumbo Salted Peanut...  \n",
       "2  \"Delight\" says it all  This is a confection that has been around a fe...  \n",
       "3         Cough Medicine  If you are looking for the secret ingredient i...  \n",
       "4            Great taffy  Great taffy at a great price.  There was a wid...  "
      ]
     },
     "execution_count": 1,
     "metadata": {},
     "output_type": "execute_result"
    }
   ],
   "source": [
    "import pandas as pd\n",
    "import numpy as np\n",
    "df1=pd.read_csv('F:/0Sem 7/ML Lab/amazon food review dataset/Reviews.csv')\n",
    "df1.head()"
   ]
  },
  {
   "cell_type": "code",
   "execution_count": 2,
   "metadata": {},
   "outputs": [
    {
     "name": "stdout",
     "output_type": "stream",
     "text": [
      "(568454,) (568454,) (568454, 2)\n"
     ]
    }
   ],
   "source": [
    "score=df1.values[:,6]\n",
    "text=df1.values[:,9]\n",
    "reviews=np.vstack((score,text)).T\n",
    "print(score.shape, text.shape, reviews.shape)"
   ]
  },
  {
   "cell_type": "code",
   "execution_count": 3,
   "metadata": {},
   "outputs": [],
   "source": [
    "p=0\n",
    "n=0\n",
    "for i in range(reviews.shape[0]):\n",
    "    if reviews[i,0] > 3:\n",
    "        reviews[i,0]=0 #positive review\n",
    "        p=p+1\n",
    "    else:\n",
    "        reviews[i,0]=1 #negative review\n",
    "        n=n+1"
   ]
  },
  {
   "cell_type": "code",
   "execution_count": 4,
   "metadata": {},
   "outputs": [],
   "source": [
    "reviews = reviews[reviews[:,0].argsort()]   #sort by 1st column"
   ]
  },
  {
   "cell_type": "code",
   "execution_count": 5,
   "metadata": {},
   "outputs": [
    {
     "data": {
      "text/plain": [
       "(10000, 2)"
      ]
     },
     "execution_count": 5,
     "metadata": {},
     "output_type": "execute_result"
    }
   ],
   "source": [
    "train=[]\n",
    "for i in range(5000):\n",
    "    train.append(reviews[i])\n",
    "    \n",
    "for i in range(443777,443777+5000):\n",
    "    train.append(reviews[i])\n",
    "    \n",
    "train=np.asarray(train)\n",
    "train.shape"
   ]
  },
  {
   "cell_type": "code",
   "execution_count": 6,
   "metadata": {},
   "outputs": [],
   "source": [
    "my_reviews1=np.array([0,'This is a very good product. I am very happy with this item.'])\n",
    "my_reviews2=np.array([1,'The product is very bad. I am very unsatisfied with the appearance.'])\n",
    "my_reviews3=np.array([0,'It was one if the best items i have purchased. Very good.'])\n",
    "my_reviews4=np.array([0,'All members of my family enjoyed the item. It is well thought.'])\n",
    "my_reviews5=np.array([1,'Extremely poor quality. I hated the item and so did my brothers.'])\n",
    "\n",
    "#train=np.vstack((train,my_reviews1))\n",
    "#train=np.vstack((train,my_reviews2))\n",
    "#train=np.vstack((train,my_reviews3))\n",
    "#train=np.vstack((train,my_reviews4))\n",
    "#train=np.vstack((train,my_reviews5))"
   ]
  },
  {
   "cell_type": "code",
   "execution_count": null,
   "metadata": {},
   "outputs": [],
   "source": []
  },
  {
   "cell_type": "code",
   "execution_count": null,
   "metadata": {},
   "outputs": [],
   "source": []
  },
  {
   "cell_type": "code",
   "execution_count": 7,
   "metadata": {},
   "outputs": [
    {
     "data": {
      "text/plain": [
       "(2000, 2)"
      ]
     },
     "execution_count": 7,
     "metadata": {},
     "output_type": "execute_result"
    }
   ],
   "source": [
    "import random as r\n",
    "test=[]\n",
    "for i in range(2000):\n",
    "    index=r.randint(0,reviews.shape[0])\n",
    "    test.append(reviews[index])\n",
    "    \n",
    "test=np.asarray(test)\n",
    "test.shape"
   ]
  },
  {
   "cell_type": "code",
   "execution_count": 8,
   "metadata": {},
   "outputs": [],
   "source": [
    "#test=np.vstack((test,my_reviews1))\n",
    "#test=np.vstack((test,my_reviews2))\n",
    "#test=np.vstack((test,my_reviews3))\n",
    "#test=np.vstack((test,my_reviews4))\n",
    "#test=np.vstack((test,my_reviews5))"
   ]
  },
  {
   "cell_type": "code",
   "execution_count": null,
   "metadata": {},
   "outputs": [],
   "source": []
  },
  {
   "cell_type": "code",
   "execution_count": 9,
   "metadata": {},
   "outputs": [],
   "source": [
    "train_all_words=[]\n",
    "for i in range(train.shape[0]):\n",
    "    train_all_words.append(train[i,1].split())\n",
    "    \n",
    "train_all_words = [item for sublist in train_all_words for item in sublist]\n",
    "\n",
    "test_all_words=[]\n",
    "for i in range(test.shape[0]):\n",
    "    test_all_words.append(test[i,1].split())\n",
    "    \n",
    "test_all_words = [item for sublist in test_all_words for item in sublist]\n",
    "\n",
    "from collections import Counter\n",
    "def common_words(words, number_of_words, reverse=False):\n",
    "    counter = Counter(words)\n",
    "    return sorted(counter, key = counter.get, reverse=reverse)[:number_of_words]\n",
    "\n",
    "train_least_common=common_words(train_all_words,200)\n",
    "train_most_common=common_words(train_all_words,200,reverse=True)\n",
    "\n",
    "test_least_common=common_words(test_all_words,200)\n",
    "test_most_common=common_words(test_all_words,200,reverse=True)"
   ]
  },
  {
   "cell_type": "code",
   "execution_count": 10,
   "metadata": {},
   "outputs": [],
   "source": [
    "for i in range(train.shape[0]):\n",
    "    train[i,1]=train[i,1].split()\n",
    "    \n",
    "for i in range(test.shape[0]):\n",
    "    test[i,1]=test[i,1].split()"
   ]
  },
  {
   "cell_type": "code",
   "execution_count": null,
   "metadata": {},
   "outputs": [],
   "source": []
  },
  {
   "cell_type": "code",
   "execution_count": 11,
   "metadata": {},
   "outputs": [],
   "source": [
    "for i in range(train.shape[0]):\n",
    "    for item in train_most_common:\n",
    "        if item in train[i,1]:\n",
    "            train[i,1].remove(item)\n",
    "    for item in train_least_common:\n",
    "        if item in train[i,1]:\n",
    "            train[i,1].remove(item)\n",
    "            \n",
    "for i in range(test.shape[0]):\n",
    "    for item in test_most_common:\n",
    "        if item in test[i,1]:\n",
    "            test[i,1].remove(item)\n",
    "    for item in test_least_common:\n",
    "        if item in test[i,1]:\n",
    "            test[i,1].remove(item)"
   ]
  },
  {
   "cell_type": "code",
   "execution_count": 12,
   "metadata": {},
   "outputs": [],
   "source": [
    "for i in range(train.shape[0]):\n",
    "    train[i,1]=\" \".join(train[i,1])\n",
    "    \n",
    "for i in range(test.shape[0]):\n",
    "    test[i,1]=\" \".join(test[i,1])"
   ]
  },
  {
   "cell_type": "code",
   "execution_count": 13,
   "metadata": {},
   "outputs": [],
   "source": [
    "train_docs=[]\n",
    "test_docs=[]\n",
    "train_label=[]\n",
    "test_label=[]\n",
    "for i in range(train.shape[0]):\n",
    "    train_docs.append(train[i,1])\n",
    "    train_label.append(train[i,0])\n",
    "    \n",
    "for i in range(test.shape[0]):\n",
    "    test_docs.append(test[i,1])\n",
    "    test_label.append(test[i,0])"
   ]
  },
  {
   "cell_type": "code",
   "execution_count": 14,
   "metadata": {},
   "outputs": [
    {
     "name": "stderr",
     "output_type": "stream",
     "text": [
      "Using TensorFlow backend.\n"
     ]
    }
   ],
   "source": [
    "from numpy import array\n",
    "from numpy import asarray\n",
    "from numpy import zeros\n",
    "from keras.preprocessing.text import Tokenizer\n",
    "from keras.preprocessing.sequence import pad_sequences\n",
    "from keras.models import Sequential\n",
    "from keras.layers import Dense\n",
    "from keras.layers import Flatten\n",
    "from keras.layers import Embedding\n",
    "\n",
    "# prepare tokenizer\n",
    "t = Tokenizer()\n",
    "t.fit_on_texts(train_docs)\n",
    "vocab_size = len(t.word_index) + 1\n",
    "#integer encode the documents\n",
    "encoded_docs = t.texts_to_sequences(train_docs)\n",
    "\n",
    "#print(encoded_docs)\n",
    "#pad documents to a max length of 4 words\n",
    "\n",
    "max_length = 100\n",
    "padded_docs = pad_sequences(encoded_docs, maxlen=max_length, padding='post')\n",
    "\n",
    "#print(padded_docs)\n",
    "#load the whole embedding into memory\n",
    "\n",
    "embeddings_index = dict()\n",
    "f = open('F:/0Sem 7/ML Lab/glove/glove.6B.100d.txt',encoding='utf8')\n",
    "for line in f:\n",
    "    values = line.split()\n",
    "    word = values[0]\n",
    "    coefs = asarray(values[1:], dtype='float32')\n",
    "    embeddings_index[word] = coefs\n",
    "f.close()\n",
    "\n",
    "#print('Loaded %s word vectors.' % len(embeddings_index))\n",
    "\n",
    "#create a weight matrix for words in training docs\n",
    "embedding_matrix = zeros((vocab_size, 100))\n",
    "for word, i in t.word_index.items():\n",
    "    embedding_vector = embeddings_index.get(word)\n",
    "    if embedding_vector is not None:\n",
    "        embedding_matrix[i] = embedding_vector"
   ]
  },
  {
   "cell_type": "code",
   "execution_count": 15,
   "metadata": {},
   "outputs": [
    {
     "data": {
      "text/plain": [
       "(19814, 100)"
      ]
     },
     "execution_count": 15,
     "metadata": {},
     "output_type": "execute_result"
    }
   ],
   "source": [
    "embedding_matrix.shape"
   ]
  },
  {
   "cell_type": "code",
   "execution_count": null,
   "metadata": {},
   "outputs": [],
   "source": []
  },
  {
   "cell_type": "code",
   "execution_count": 16,
   "metadata": {},
   "outputs": [
    {
     "name": "stdout",
     "output_type": "stream",
     "text": [
      "WARNING:tensorflow:Large dropout rate: 0.8 (>0.5). In TensorFlow 2.x, dropout() uses dropout rate instead of keep_prob. Please ensure that this is intended.\n"
     ]
    }
   ],
   "source": [
    "import tensorflow as tf\n",
    "from tensorflow.keras import layers\n",
    "from tensorflow.keras.models import Sequential\n",
    "\n",
    "#define model\n",
    "model = Sequential()\n",
    "e = tf.keras.layers.Embedding(vocab_size, 100, weights=[embedding_matrix], input_length=100, trainable=False)\n",
    "model.add(e)\n",
    "model.add(layers.Conv1D(32,4, activation='relu'))\n",
    "model.add(layers.Dropout(rate=0.8))\n",
    "model.add(layers.MaxPooling1D(pool_size=2))\n",
    "model.add(layers.LSTM(64, activation='relu'))\n",
    "model.add(layers.Flatten())\n",
    "model.add(layers.Dense(128, activation='relu'))\n",
    "model.add(layers.Dense(1, activation='sigmoid'))"
   ]
  },
  {
   "cell_type": "code",
   "execution_count": 17,
   "metadata": {},
   "outputs": [
    {
     "name": "stdout",
     "output_type": "stream",
     "text": [
      "Model: \"sequential\"\n",
      "_________________________________________________________________\n",
      "Layer (type)                 Output Shape              Param #   \n",
      "=================================================================\n",
      "embedding (Embedding)        (None, 100, 100)          1981400   \n",
      "_________________________________________________________________\n",
      "conv1d (Conv1D)              (None, 97, 32)            12832     \n",
      "_________________________________________________________________\n",
      "dropout (Dropout)            (None, 97, 32)            0         \n",
      "_________________________________________________________________\n",
      "max_pooling1d (MaxPooling1D) (None, 48, 32)            0         \n",
      "_________________________________________________________________\n",
      "lstm (LSTM)                  (None, 64)                24832     \n",
      "_________________________________________________________________\n",
      "flatten (Flatten)            (None, 64)                0         \n",
      "_________________________________________________________________\n",
      "dense (Dense)                (None, 128)               8320      \n",
      "_________________________________________________________________\n",
      "dense_1 (Dense)              (None, 1)                 129       \n",
      "=================================================================\n",
      "Total params: 2,027,513\n",
      "Trainable params: 46,113\n",
      "Non-trainable params: 1,981,400\n",
      "_________________________________________________________________\n",
      "None\n"
     ]
    }
   ],
   "source": [
    "# compile the model\n",
    "model.compile(optimizer='adam', loss='binary_crossentropy', metrics=['accuracy'])\n",
    "# summarize the model\n",
    "print(model.summary())"
   ]
  },
  {
   "cell_type": "code",
   "execution_count": 18,
   "metadata": {},
   "outputs": [
    {
     "name": "stdout",
     "output_type": "stream",
     "text": [
      "(None, 100, 100)\n",
      "(None, 97, 32)\n",
      "(None, 97, 32)\n",
      "(None, 48, 32)\n",
      "(None, 64)\n",
      "(None, 64)\n",
      "(None, 128)\n",
      "(None, 1)\n"
     ]
    }
   ],
   "source": [
    "for layer in model.layers:\n",
    "    print(layer.output_shape)"
   ]
  },
  {
   "cell_type": "code",
   "execution_count": 19,
   "metadata": {},
   "outputs": [
    {
     "data": {
      "text/plain": [
       "(10000,)"
      ]
     },
     "execution_count": 19,
     "metadata": {},
     "output_type": "execute_result"
    }
   ],
   "source": [
    "train_label=np.asarray(train_label)\n",
    "train_label.shape"
   ]
  },
  {
   "cell_type": "code",
   "execution_count": null,
   "metadata": {},
   "outputs": [],
   "source": []
  },
  {
   "cell_type": "code",
   "execution_count": 20,
   "metadata": {
    "scrolled": true
   },
   "outputs": [
    {
     "data": {
      "text/plain": [
       "(10000, 100)"
      ]
     },
     "execution_count": 20,
     "metadata": {},
     "output_type": "execute_result"
    }
   ],
   "source": [
    "padded_docs.shape"
   ]
  },
  {
   "cell_type": "code",
   "execution_count": 21,
   "metadata": {},
   "outputs": [],
   "source": [
    "# prepare tokenizer\n",
    "t1 = Tokenizer()\n",
    "t1.fit_on_texts(test_docs)\n",
    "vocab_size1 = len(t1.word_index) + 1\n",
    "#integer encode the documents\n",
    "encoded_docs1 = t1.texts_to_sequences(test_docs)\n",
    "\n",
    "#print(encoded_docs)\n",
    "#pad documents to a max length of 4 words\n",
    "\n",
    "max_length1 = 100\n",
    "padded_docs1 = pad_sequences(encoded_docs1, maxlen=max_length1, padding='post')\n",
    "test_label=np.asarray(test_label)\n",
    "#print(padded_docs)"
   ]
  },
  {
   "cell_type": "code",
   "execution_count": 22,
   "metadata": {},
   "outputs": [
    {
     "name": "stdout",
     "output_type": "stream",
     "text": [
      "Train on 10000 samples, validate on 2000 samples\n",
      "Epoch 1/30\n",
      "WARNING:tensorflow:Large dropout rate: 0.8 (>0.5). In TensorFlow 2.x, dropout() uses dropout rate instead of keep_prob. Please ensure that this is intended.\n",
      "WARNING:tensorflow:Large dropout rate: 0.8 (>0.5). In TensorFlow 2.x, dropout() uses dropout rate instead of keep_prob. Please ensure that this is intended.\n",
      "10000/10000 [==============================] - 62s 6ms/sample - loss: 0.6912 - accuracy: 0.5325 - val_loss: 0.6522 - val_accuracy: 0.7740\n",
      "Epoch 2/30\n",
      "10000/10000 [==============================] - 23s 2ms/sample - loss: 0.6881 - accuracy: 0.5522 - val_loss: 0.6890 - val_accuracy: 0.6485\n",
      "Epoch 3/30\n",
      "10000/10000 [==============================] - 22s 2ms/sample - loss: 0.6915 - accuracy: 0.5364 - val_loss: 0.6508 - val_accuracy: 0.7190\n",
      "Epoch 4/30\n",
      "10000/10000 [==============================] - 22s 2ms/sample - loss: 0.6928 - accuracy: 0.5420 - val_loss: 0.6545 - val_accuracy: 0.6625\n",
      "Epoch 5/30\n",
      "10000/10000 [==============================] - 22s 2ms/sample - loss: 0.7992 - accuracy: 0.5492 - val_loss: 0.6613 - val_accuracy: 0.6745\n",
      "Epoch 6/30\n",
      "10000/10000 [==============================] - 21s 2ms/sample - loss: 0.6900 - accuracy: 0.5370 - val_loss: 0.6607 - val_accuracy: 0.6500\n",
      "Epoch 7/30\n",
      "10000/10000 [==============================] - 24s 2ms/sample - loss: 0.6854 - accuracy: 0.5531 - val_loss: 0.6763 - val_accuracy: 0.6110\n",
      "Epoch 8/30\n",
      "10000/10000 [==============================] - 25s 2ms/sample - loss: 0.6695 - accuracy: 0.5891 - val_loss: 0.6878 - val_accuracy: 0.5930\n",
      "Epoch 9/30\n",
      "10000/10000 [==============================] - 25s 2ms/sample - loss: 0.6242 - accuracy: 0.6471 - val_loss: 0.6882 - val_accuracy: 0.5890\n",
      "Epoch 10/30\n",
      "10000/10000 [==============================] - 25s 3ms/sample - loss: 0.5983 - accuracy: 0.6787 - val_loss: 0.6140 - val_accuracy: 0.6765\n",
      "Epoch 11/30\n",
      "10000/10000 [==============================] - 25s 3ms/sample - loss: 0.5847 - accuracy: 0.6952 - val_loss: 0.7004 - val_accuracy: 0.5370\n",
      "Epoch 12/30\n",
      "10000/10000 [==============================] - 26s 3ms/sample - loss: 1.3541 - accuracy: 0.7023 - val_loss: 0.8670 - val_accuracy: 0.3775\n",
      "Epoch 13/30\n",
      "10000/10000 [==============================] - 26s 3ms/sample - loss: 0.6172 - accuracy: 0.6895 - val_loss: 0.6520 - val_accuracy: 0.6135\n",
      "Epoch 14/30\n",
      "10000/10000 [==============================] - 25s 2ms/sample - loss: 0.5740 - accuracy: 0.6996 - val_loss: 0.7250 - val_accuracy: 0.5145\n",
      "Epoch 15/30\n",
      "10000/10000 [==============================] - 25s 3ms/sample - loss: 0.5638 - accuracy: 0.7095 - val_loss: 0.7114 - val_accuracy: 0.5475\n",
      "Epoch 16/30\n",
      "10000/10000 [==============================] - 25s 3ms/sample - loss: 0.5616 - accuracy: 0.7112 - val_loss: 0.6665 - val_accuracy: 0.5955\n",
      "Epoch 17/30\n",
      "10000/10000 [==============================] - 26s 3ms/sample - loss: 0.5561 - accuracy: 0.7228 - val_loss: 0.7007 - val_accuracy: 0.5235\n",
      "Epoch 18/30\n",
      "10000/10000 [==============================] - 26s 3ms/sample - loss: 0.5484 - accuracy: 0.7232 - val_loss: 0.7905 - val_accuracy: 0.4375\n",
      "Epoch 19/30\n",
      "10000/10000 [==============================] - 25s 2ms/sample - loss: 0.5467 - accuracy: 0.7246 - val_loss: 0.7202 - val_accuracy: 0.5140\n",
      "Epoch 20/30\n",
      "10000/10000 [==============================] - 26s 3ms/sample - loss: 0.5398 - accuracy: 0.7314 - val_loss: 0.6805 - val_accuracy: 0.5770\n",
      "Epoch 21/30\n",
      "10000/10000 [==============================] - 24s 2ms/sample - loss: 0.5430 - accuracy: 0.7262 - val_loss: 0.7086 - val_accuracy: 0.5420\n",
      "Epoch 22/30\n",
      "10000/10000 [==============================] - 24s 2ms/sample - loss: 0.5336 - accuracy: 0.7312 - val_loss: 0.7486 - val_accuracy: 0.5125\n",
      "Epoch 23/30\n",
      "10000/10000 [==============================] - 25s 2ms/sample - loss: 0.5379 - accuracy: 0.7298 - val_loss: 0.6103 - val_accuracy: 0.6970\n",
      "Epoch 24/30\n",
      "10000/10000 [==============================] - 25s 2ms/sample - loss: 0.5298 - accuracy: 0.7394 - val_loss: 0.7901 - val_accuracy: 0.4815\n",
      "Epoch 25/30\n",
      "10000/10000 [==============================] - 25s 2ms/sample - loss: 0.5246 - accuracy: 0.7383 - val_loss: 0.7562 - val_accuracy: 0.5050\n",
      "Epoch 26/30\n",
      "10000/10000 [==============================] - 25s 2ms/sample - loss: 0.5252 - accuracy: 0.7357 - val_loss: 0.6073 - val_accuracy: 0.6810\n",
      "Epoch 27/30\n",
      "10000/10000 [==============================] - 24s 2ms/sample - loss: 0.5216 - accuracy: 0.7417 - val_loss: 0.6403 - val_accuracy: 0.6235\n",
      "Epoch 28/30\n",
      "10000/10000 [==============================] - 24s 2ms/sample - loss: 0.5220 - accuracy: 0.7417 - val_loss: 0.7473 - val_accuracy: 0.4975\n",
      "Epoch 29/30\n",
      "10000/10000 [==============================] - 24s 2ms/sample - loss: 0.5155 - accuracy: 0.7475 - val_loss: 0.7323 - val_accuracy: 0.5080\n",
      "Epoch 30/30\n",
      "10000/10000 [==============================] - 24s 2ms/sample - loss: 0.5091 - accuracy: 0.7512 - val_loss: 0.7004 - val_accuracy: 0.5585\n"
     ]
    }
   ],
   "source": [
    "# fit the model\n",
    "history=model.fit(padded_docs, train_label, validation_data=(padded_docs1,test_label), epochs=30, verbose=1)"
   ]
  },
  {
   "cell_type": "code",
   "execution_count": null,
   "metadata": {},
   "outputs": [],
   "source": []
  },
  {
   "cell_type": "code",
   "execution_count": null,
   "metadata": {},
   "outputs": [],
   "source": []
  },
  {
   "cell_type": "code",
   "execution_count": null,
   "metadata": {},
   "outputs": [],
   "source": []
  },
  {
   "cell_type": "code",
   "execution_count": null,
   "metadata": {},
   "outputs": [],
   "source": []
  },
  {
   "cell_type": "code",
   "execution_count": null,
   "metadata": {},
   "outputs": [],
   "source": []
  },
  {
   "cell_type": "code",
   "execution_count": 23,
   "metadata": {},
   "outputs": [
    {
     "data": {
      "text/plain": [
       "'2nd LSTM Model'"
      ]
     },
     "execution_count": 23,
     "metadata": {},
     "output_type": "execute_result"
    }
   ],
   "source": [
    "\"2nd LSTM Model\""
   ]
  },
  {
   "cell_type": "code",
   "execution_count": 24,
   "metadata": {},
   "outputs": [
    {
     "name": "stdout",
     "output_type": "stream",
     "text": [
      "WARNING:tensorflow:Large dropout rate: 0.8 (>0.5). In TensorFlow 2.x, dropout() uses dropout rate instead of keep_prob. Please ensure that this is intended.\n",
      "Model: \"sequential_1\"\n",
      "_________________________________________________________________\n",
      "Layer (type)                 Output Shape              Param #   \n",
      "=================================================================\n",
      "embedding_1 (Embedding)      (None, 100, 100)          1981400   \n",
      "_________________________________________________________________\n",
      "conv1d_1 (Conv1D)            (None, 97, 32)            12832     \n",
      "_________________________________________________________________\n",
      "dropout_1 (Dropout)          (None, 97, 32)            0         \n",
      "_________________________________________________________________\n",
      "max_pooling1d_1 (MaxPooling1 (None, 48, 32)            0         \n",
      "_________________________________________________________________\n",
      "lstm_1 (LSTM)                (None, 48, 64)            24832     \n",
      "_________________________________________________________________\n",
      "lstm_2 (LSTM)                (None, 128)               98816     \n",
      "_________________________________________________________________\n",
      "flatten_1 (Flatten)          (None, 128)               0         \n",
      "_________________________________________________________________\n",
      "dense_2 (Dense)              (None, 256)               33024     \n",
      "_________________________________________________________________\n",
      "dense_3 (Dense)              (None, 1)                 257       \n",
      "=================================================================\n",
      "Total params: 2,151,161\n",
      "Trainable params: 169,761\n",
      "Non-trainable params: 1,981,400\n",
      "_________________________________________________________________\n",
      "None\n"
     ]
    }
   ],
   "source": [
    "#define model\n",
    "model1 = Sequential()\n",
    "e = tf.keras.layers.Embedding(vocab_size, 100, weights=[embedding_matrix], input_length=100, trainable=False)\n",
    "model1.add(e)\n",
    "model1.add(layers.Conv1D(32,4, activation='relu'))\n",
    "model1.add(layers.Dropout(rate=0.8))\n",
    "model1.add(layers.MaxPooling1D(pool_size=2))\n",
    "model1.add(layers.LSTM(64, activation='tanh', return_sequences=True))\n",
    "model1.add(layers.LSTM(128, activation='tanh', return_sequences=False))\n",
    "model1.add(layers.Flatten())\n",
    "model1.add(layers.Dense(256, activation ='tanh'))\n",
    "model1.add(layers.Dense(1, activation='sigmoid'))\n",
    "\n",
    "# compile the model\n",
    "model1.compile(optimizer='adam', loss='binary_crossentropy', metrics=['accuracy'])\n",
    "# summarize the model\n",
    "print(model1.summary())"
   ]
  },
  {
   "cell_type": "code",
   "execution_count": 25,
   "metadata": {},
   "outputs": [
    {
     "name": "stdout",
     "output_type": "stream",
     "text": [
      "Train on 10000 samples, validate on 2000 samples\n",
      "Epoch 1/30\n",
      "WARNING:tensorflow:Large dropout rate: 0.8 (>0.5). In TensorFlow 2.x, dropout() uses dropout rate instead of keep_prob. Please ensure that this is intended.\n",
      "10000/10000 [==============================] - 12s 1ms/sample - loss: 0.6878 - accuracy: 0.5520 - val_loss: 0.6908 - val_accuracy: 0.6540\n",
      "Epoch 2/30\n",
      "10000/10000 [==============================] - 6s 631us/sample - loss: 0.6151 - accuracy: 0.6680 - val_loss: 0.7830 - val_accuracy: 0.5305\n",
      "Epoch 3/30\n",
      "10000/10000 [==============================] - 6s 633us/sample - loss: 0.5735 - accuracy: 0.7066 - val_loss: 0.8322 - val_accuracy: 0.5165\n",
      "Epoch 4/30\n",
      "10000/10000 [==============================] - 6s 619us/sample - loss: 0.5440 - accuracy: 0.7311 - val_loss: 0.7899 - val_accuracy: 0.4880\n",
      "Epoch 5/30\n",
      "10000/10000 [==============================] - 6s 634us/sample - loss: 0.5279 - accuracy: 0.7389 - val_loss: 0.7094 - val_accuracy: 0.6235\n",
      "Epoch 6/30\n",
      "10000/10000 [==============================] - 6s 618us/sample - loss: 0.5151 - accuracy: 0.7529 - val_loss: 0.8374 - val_accuracy: 0.4885\n",
      "Epoch 7/30\n",
      "10000/10000 [==============================] - 6s 617us/sample - loss: 0.5011 - accuracy: 0.7614 - val_loss: 0.8164 - val_accuracy: 0.4025\n",
      "Epoch 8/30\n",
      "10000/10000 [==============================] - 6s 623us/sample - loss: 0.4926 - accuracy: 0.7644 - val_loss: 1.0000 - val_accuracy: 0.4140\n",
      "Epoch 9/30\n",
      "10000/10000 [==============================] - 6s 620us/sample - loss: 0.4836 - accuracy: 0.7732 - val_loss: 0.8545 - val_accuracy: 0.4415\n",
      "Epoch 10/30\n",
      "10000/10000 [==============================] - 6s 621us/sample - loss: 0.4812 - accuracy: 0.7717 - val_loss: 0.7767 - val_accuracy: 0.5290\n",
      "Epoch 11/30\n",
      "10000/10000 [==============================] - 6s 628us/sample - loss: 0.4641 - accuracy: 0.7825 - val_loss: 0.7952 - val_accuracy: 0.5545\n",
      "Epoch 12/30\n",
      "10000/10000 [==============================] - 6s 621us/sample - loss: 0.4640 - accuracy: 0.7838 - val_loss: 0.9280 - val_accuracy: 0.4215\n",
      "Epoch 13/30\n",
      "10000/10000 [==============================] - 6s 628us/sample - loss: 0.4611 - accuracy: 0.7819 - val_loss: 0.8462 - val_accuracy: 0.5215\n",
      "Epoch 14/30\n",
      "10000/10000 [==============================] - 6s 616us/sample - loss: 0.4530 - accuracy: 0.7865 - val_loss: 0.7712 - val_accuracy: 0.5055\n",
      "Epoch 15/30\n",
      "10000/10000 [==============================] - 6s 620us/sample - loss: 0.4519 - accuracy: 0.7896 - val_loss: 0.6736 - val_accuracy: 0.5970\n",
      "Epoch 16/30\n",
      "10000/10000 [==============================] - 6s 606us/sample - loss: 0.4445 - accuracy: 0.7939 - val_loss: 0.9990 - val_accuracy: 0.3840\n",
      "Epoch 17/30\n",
      "10000/10000 [==============================] - 6s 612us/sample - loss: 0.4494 - accuracy: 0.7930 - val_loss: 0.8771 - val_accuracy: 0.4450\n",
      "Epoch 18/30\n",
      "10000/10000 [==============================] - 6s 621us/sample - loss: 0.4362 - accuracy: 0.8029 - val_loss: 0.7342 - val_accuracy: 0.5750\n",
      "Epoch 19/30\n",
      "10000/10000 [==============================] - 6s 608us/sample - loss: 0.4363 - accuracy: 0.8026 - val_loss: 1.0362 - val_accuracy: 0.4885\n",
      "Epoch 20/30\n",
      "10000/10000 [==============================] - 6s 619us/sample - loss: 0.4323 - accuracy: 0.8087 - val_loss: 0.7150 - val_accuracy: 0.5790\n",
      "Epoch 21/30\n",
      "10000/10000 [==============================] - 6s 601us/sample - loss: 0.4282 - accuracy: 0.8040 - val_loss: 0.9768 - val_accuracy: 0.4580\n",
      "Epoch 22/30\n",
      "10000/10000 [==============================] - 6s 582us/sample - loss: 0.4262 - accuracy: 0.8079 - val_loss: 0.9381 - val_accuracy: 0.4605\n",
      "Epoch 23/30\n",
      "10000/10000 [==============================] - 6s 588us/sample - loss: 0.4243 - accuracy: 0.8058 - val_loss: 0.9059 - val_accuracy: 0.4035\n",
      "Epoch 24/30\n",
      "10000/10000 [==============================] - 6s 565us/sample - loss: 0.4175 - accuracy: 0.8118 - val_loss: 0.7966 - val_accuracy: 0.4320\n",
      "Epoch 25/30\n",
      "10000/10000 [==============================] - 6s 565us/sample - loss: 0.4184 - accuracy: 0.8093 - val_loss: 0.8027 - val_accuracy: 0.5515\n",
      "Epoch 26/30\n",
      "10000/10000 [==============================] - 6s 584us/sample - loss: 0.4118 - accuracy: 0.8179 - val_loss: 0.9869 - val_accuracy: 0.4305\n",
      "Epoch 27/30\n",
      "10000/10000 [==============================] - 6s 565us/sample - loss: 0.4143 - accuracy: 0.8139 - val_loss: 0.9353 - val_accuracy: 0.4645\n",
      "Epoch 28/30\n",
      "10000/10000 [==============================] - 6s 564us/sample - loss: 0.4108 - accuracy: 0.8149 - val_loss: 0.9330 - val_accuracy: 0.5020\n",
      "Epoch 29/30\n",
      "10000/10000 [==============================] - 6s 572us/sample - loss: 0.4148 - accuracy: 0.8118 - val_loss: 0.8379 - val_accuracy: 0.5435\n",
      "Epoch 30/30\n",
      "10000/10000 [==============================] - 6s 570us/sample - loss: 0.4077 - accuracy: 0.8178 - val_loss: 0.9394 - val_accuracy: 0.3720\n"
     ]
    }
   ],
   "source": [
    "# fit the model\n",
    "history1=model1.fit(padded_docs, train_label, validation_data=(padded_docs1,test_label), epochs=30, verbose=1)"
   ]
  },
  {
   "cell_type": "code",
   "execution_count": null,
   "metadata": {},
   "outputs": [],
   "source": []
  },
  {
   "cell_type": "code",
   "execution_count": null,
   "metadata": {},
   "outputs": [],
   "source": []
  },
  {
   "cell_type": "code",
   "execution_count": null,
   "metadata": {},
   "outputs": [],
   "source": []
  },
  {
   "cell_type": "code",
   "execution_count": null,
   "metadata": {},
   "outputs": [],
   "source": []
  },
  {
   "cell_type": "code",
   "execution_count": null,
   "metadata": {},
   "outputs": [],
   "source": []
  },
  {
   "cell_type": "code",
   "execution_count": 26,
   "metadata": {},
   "outputs": [
    {
     "data": {
      "text/plain": [
       "'3rd LSTM Model'"
      ]
     },
     "execution_count": 26,
     "metadata": {},
     "output_type": "execute_result"
    }
   ],
   "source": [
    "\"3rd LSTM Model\""
   ]
  },
  {
   "cell_type": "code",
   "execution_count": 27,
   "metadata": {},
   "outputs": [
    {
     "name": "stdout",
     "output_type": "stream",
     "text": [
      "Model: \"sequential_2\"\n",
      "_________________________________________________________________\n",
      "Layer (type)                 Output Shape              Param #   \n",
      "=================================================================\n",
      "embedding_2 (Embedding)      (None, 100, 100)          1981400   \n",
      "_________________________________________________________________\n",
      "conv1d_2 (Conv1D)            (None, 97, 32)            12832     \n",
      "_________________________________________________________________\n",
      "dropout_2 (Dropout)          (None, 97, 32)            0         \n",
      "_________________________________________________________________\n",
      "max_pooling1d_2 (MaxPooling1 (None, 48, 32)            0         \n",
      "_________________________________________________________________\n",
      "lstm_3 (LSTM)                (None, 48, 64)            24832     \n",
      "_________________________________________________________________\n",
      "lstm_4 (LSTM)                (None, 128)               98816     \n",
      "_________________________________________________________________\n",
      "flatten_2 (Flatten)          (None, 128)               0         \n",
      "_________________________________________________________________\n",
      "dense_4 (Dense)              (None, 256)               33024     \n",
      "_________________________________________________________________\n",
      "dense_5 (Dense)              (None, 1)                 257       \n",
      "=================================================================\n",
      "Total params: 2,151,161\n",
      "Trainable params: 169,761\n",
      "Non-trainable params: 1,981,400\n",
      "_________________________________________________________________\n",
      "None\n"
     ]
    }
   ],
   "source": [
    "#define model\n",
    "model2 = Sequential()\n",
    "e = tf.keras.layers.Embedding(vocab_size, 100, weights=[embedding_matrix], input_length=100, trainable=False)\n",
    "model2.add(e)\n",
    "model2.add(layers.Conv1D(32,4, activation='relu'))\n",
    "model2.add(layers.Dropout(rate=0.8))\n",
    "model2.add(layers.MaxPooling1D(pool_size=2))\n",
    "model2.add(layers.LSTM(64, activation='relu', return_sequences=True))\n",
    "model2.add(layers.LSTM(128, activation='relu', return_sequences=False))\n",
    "model2.add(layers.Flatten())\n",
    "model2.add(layers.Dense(256, activation='relu'))\n",
    "model2.add(layers.Dense(1, activation='sigmoid'))\n",
    "\n",
    "# compile the model\n",
    "model2.compile(optimizer='adam', loss='binary_crossentropy', metrics=['accuracy'])\n",
    "# summarize the model\n",
    "print(model2.summary())"
   ]
  },
  {
   "cell_type": "code",
   "execution_count": 28,
   "metadata": {},
   "outputs": [
    {
     "name": "stdout",
     "output_type": "stream",
     "text": [
      "Train on 10000 samples, validate on 2000 samples\n",
      "Epoch 1/30\n",
      "10000/10000 [==============================] - 46s 5ms/sample - loss: 0.6967 - accuracy: 0.5406 - val_loss: 0.6410 - val_accuracy: 0.7230\n",
      "Epoch 2/30\n",
      "10000/10000 [==============================] - 41s 4ms/sample - loss: 0.7015 - accuracy: 0.5485 - val_loss: 0.6998 - val_accuracy: 0.5755\n",
      "Epoch 3/30\n",
      "10000/10000 [==============================] - 41s 4ms/sample - loss: 0.6904 - accuracy: 0.5519 - val_loss: 0.7032 - val_accuracy: 0.4985\n",
      "Epoch 4/30\n",
      "10000/10000 [==============================] - 41s 4ms/sample - loss: 0.6826 - accuracy: 0.5689 - val_loss: 0.6395 - val_accuracy: 0.6165\n",
      "Epoch 5/30\n",
      "10000/10000 [==============================] - 41s 4ms/sample - loss: 0.6890 - accuracy: 0.5430 - val_loss: 0.7145 - val_accuracy: 0.2090\n",
      "Epoch 6/30\n",
      "10000/10000 [==============================] - 41s 4ms/sample - loss: 0.6942 - accuracy: 0.5295 - val_loss: 0.6895 - val_accuracy: 0.6690\n",
      "Epoch 7/30\n",
      "10000/10000 [==============================] - 42s 4ms/sample - loss: 1.0236 - accuracy: 0.5425 - val_loss: 0.6588 - val_accuracy: 0.6800\n",
      "Epoch 8/30\n",
      "10000/10000 [==============================] - 41s 4ms/sample - loss: 0.6876 - accuracy: 0.5526 - val_loss: 0.6640 - val_accuracy: 0.6285\n",
      "Epoch 9/30\n",
      "10000/10000 [==============================] - 42s 4ms/sample - loss: 0.6863 - accuracy: 0.5530 - val_loss: 0.6956 - val_accuracy: 0.5090\n",
      "Epoch 10/30\n",
      "10000/10000 [==============================] - 41s 4ms/sample - loss: 0.7979 - accuracy: 0.5164 - val_loss: 0.6746 - val_accuracy: 0.7870\n",
      "Epoch 11/30\n",
      "10000/10000 [==============================] - 41s 4ms/sample - loss: 0.6931 - accuracy: 0.5054 - val_loss: 0.6950 - val_accuracy: 0.2560\n",
      "Epoch 12/30\n",
      "10000/10000 [==============================] - 42s 4ms/sample - loss: 0.6930 - accuracy: 0.5104 - val_loss: 0.7086 - val_accuracy: 0.2560\n",
      "Epoch 13/30\n",
      "10000/10000 [==============================] - 42s 4ms/sample - loss: 0.6929 - accuracy: 0.5026 - val_loss: 0.6817 - val_accuracy: 0.7840\n",
      "Epoch 14/30\n",
      "10000/10000 [==============================] - 42s 4ms/sample - loss: 0.6930 - accuracy: 0.4959 - val_loss: 0.6902 - val_accuracy: 0.2485\n",
      "Epoch 15/30\n",
      "10000/10000 [==============================] - 42s 4ms/sample - loss: 0.6928 - accuracy: 0.5077 - val_loss: 0.6768 - val_accuracy: 0.7920\n",
      "Epoch 16/30\n",
      "10000/10000 [==============================] - 41s 4ms/sample - loss: 0.6883 - accuracy: 0.5447 - val_loss: 0.6367 - val_accuracy: 0.7920\n",
      "Epoch 17/30\n",
      "10000/10000 [==============================] - 41s 4ms/sample - loss: 0.6850 - accuracy: 0.5672 - val_loss: 0.6130 - val_accuracy: 0.7920\n",
      "Epoch 18/30\n",
      "10000/10000 [==============================] - 41s 4ms/sample - loss: 0.6854 - accuracy: 0.5548 - val_loss: 0.6018 - val_accuracy: 0.7920\n",
      "Epoch 19/30\n",
      "10000/10000 [==============================] - 42s 4ms/sample - loss: 0.6791 - accuracy: 0.5756 - val_loss: 0.5925 - val_accuracy: 0.7925\n",
      "Epoch 20/30\n",
      "10000/10000 [==============================] - 42s 4ms/sample - loss: 0.6772 - accuracy: 0.5728 - val_loss: 0.6271 - val_accuracy: 0.7180\n",
      "Epoch 21/30\n",
      "10000/10000 [==============================] - 42s 4ms/sample - loss: 0.6683 - accuracy: 0.5962 - val_loss: 0.6494 - val_accuracy: 0.6050\n",
      "Epoch 22/30\n",
      "10000/10000 [==============================] - 41s 4ms/sample - loss: 0.6556 - accuracy: 0.6147 - val_loss: 0.6408 - val_accuracy: 0.6190\n",
      "Epoch 23/30\n",
      "10000/10000 [==============================] - 42s 4ms/sample - loss: 0.6448 - accuracy: 0.6345 - val_loss: 0.6313 - val_accuracy: 0.6100\n",
      "Epoch 24/30\n",
      "10000/10000 [==============================] - 41s 4ms/sample - loss: 0.6273 - accuracy: 0.6542 - val_loss: 0.6050 - val_accuracy: 0.6635\n",
      "Epoch 25/30\n",
      "10000/10000 [==============================] - 41s 4ms/sample - loss: 0.6227 - accuracy: 0.6600 - val_loss: 0.5932 - val_accuracy: 0.6745\n",
      "Epoch 26/30\n",
      "10000/10000 [==============================] - 41s 4ms/sample - loss: 0.6390 - accuracy: 0.6619 - val_loss: 0.5821 - val_accuracy: 0.7705\n",
      "Epoch 27/30\n",
      "10000/10000 [==============================] - 41s 4ms/sample - loss: 0.6335 - accuracy: 0.6471 - val_loss: 0.5453 - val_accuracy: 0.7855\n",
      "Epoch 28/30\n",
      "10000/10000 [==============================] - 41s 4ms/sample - loss: 0.6211 - accuracy: 0.6562 - val_loss: 0.5951 - val_accuracy: 0.6990\n",
      "Epoch 29/30\n",
      "10000/10000 [==============================] - 42s 4ms/sample - loss: 0.6079 - accuracy: 0.6675 - val_loss: 0.6216 - val_accuracy: 0.6425\n",
      "Epoch 30/30\n",
      "10000/10000 [==============================] - 41s 4ms/sample - loss: 0.9320 - accuracy: 0.6151 - val_loss: 0.5594 - val_accuracy: 0.7920\n"
     ]
    }
   ],
   "source": [
    "# fit the model\n",
    "history2=model2.fit(padded_docs, train_label, validation_data=(padded_docs1,test_label), epochs=30, verbose=1)"
   ]
  },
  {
   "cell_type": "code",
   "execution_count": null,
   "metadata": {},
   "outputs": [],
   "source": []
  },
  {
   "cell_type": "code",
   "execution_count": null,
   "metadata": {},
   "outputs": [],
   "source": []
  },
  {
   "cell_type": "code",
   "execution_count": null,
   "metadata": {},
   "outputs": [],
   "source": []
  },
  {
   "cell_type": "code",
   "execution_count": null,
   "metadata": {},
   "outputs": [],
   "source": []
  },
  {
   "cell_type": "code",
   "execution_count": 29,
   "metadata": {},
   "outputs": [
    {
     "name": "stdout",
     "output_type": "stream",
     "text": [
      "Model: \"sequential_3\"\n",
      "_________________________________________________________________\n",
      "Layer (type)                 Output Shape              Param #   \n",
      "=================================================================\n",
      "embedding_3 (Embedding)      (None, 100, 100)          1981400   \n",
      "_________________________________________________________________\n",
      "conv1d_3 (Conv1D)            (None, 97, 32)            12832     \n",
      "_________________________________________________________________\n",
      "dropout_3 (Dropout)          (None, 97, 32)            0         \n",
      "_________________________________________________________________\n",
      "max_pooling1d_3 (MaxPooling1 (None, 48, 32)            0         \n",
      "_________________________________________________________________\n",
      "gru (GRU)                    (None, 48, 64)            18816     \n",
      "_________________________________________________________________\n",
      "gru_1 (GRU)                  (None, 128)               74496     \n",
      "_________________________________________________________________\n",
      "flatten_3 (Flatten)          (None, 128)               0         \n",
      "_________________________________________________________________\n",
      "dense_6 (Dense)              (None, 256)               33024     \n",
      "_________________________________________________________________\n",
      "dense_7 (Dense)              (None, 1)                 257       \n",
      "=================================================================\n",
      "Total params: 2,120,825\n",
      "Trainable params: 139,425\n",
      "Non-trainable params: 1,981,400\n",
      "_________________________________________________________________\n",
      "None\n"
     ]
    }
   ],
   "source": [
    "#define model\n",
    "model3 = Sequential()\n",
    "e = tf.keras.layers.Embedding(vocab_size, 100, weights=[embedding_matrix], input_length=100, trainable=False)\n",
    "model3.add(e)\n",
    "model3.add(layers.Conv1D(32,4, activation='relu'))\n",
    "model3.add(layers.Dropout(rate=0.8))\n",
    "model3.add(layers.MaxPooling1D(pool_size=2))\n",
    "model3.add(layers.GRU(64, activation='relu', return_sequences=True))\n",
    "model3.add(layers.GRU(128, activation='relu', return_sequences=False))\n",
    "model3.add(layers.Flatten())\n",
    "model3.add(layers.Dense(256, activation='relu'))\n",
    "model3.add(layers.Dense(1, activation='sigmoid'))\n",
    "\n",
    "\n",
    "# compile the model\n",
    "model3.compile(optimizer='adam', loss='binary_crossentropy', metrics=['accuracy'])\n",
    "# summarize the model\n",
    "print(model3.summary())"
   ]
  },
  {
   "cell_type": "code",
   "execution_count": 30,
   "metadata": {},
   "outputs": [
    {
     "name": "stdout",
     "output_type": "stream",
     "text": [
      "Train on 10000 samples, validate on 2000 samples\n",
      "Epoch 1/30\n",
      "10000/10000 [==============================] - 56s 6ms/sample - loss: 0.6928 - accuracy: 0.5148 - val_loss: 0.6932 - val_accuracy: 0.7275\n",
      "Epoch 2/30\n",
      "10000/10000 [==============================] - 51s 5ms/sample - loss: 0.6914 - accuracy: 0.5185 - val_loss: 0.6735 - val_accuracy: 0.7305\n",
      "Epoch 3/30\n",
      "10000/10000 [==============================] - 51s 5ms/sample - loss: 0.6904 - accuracy: 0.5245 - val_loss: 0.6689 - val_accuracy: 0.7400\n",
      "Epoch 4/30\n",
      "10000/10000 [==============================] - 50s 5ms/sample - loss: 0.6384 - accuracy: 0.6385 - val_loss: 0.5701 - val_accuracy: 0.7115\n",
      "Epoch 5/30\n",
      "10000/10000 [==============================] - 51s 5ms/sample - loss: 0.5677 - accuracy: 0.7118 - val_loss: 0.6060 - val_accuracy: 0.6780\n",
      "Epoch 6/30\n",
      "10000/10000 [==============================] - 51s 5ms/sample - loss: 0.5398 - accuracy: 0.7293 - val_loss: 0.5801 - val_accuracy: 0.7170\n",
      "Epoch 7/30\n",
      "10000/10000 [==============================] - 50s 5ms/sample - loss: 0.5195 - accuracy: 0.7466 - val_loss: 0.6606 - val_accuracy: 0.5995\n",
      "Epoch 8/30\n",
      "10000/10000 [==============================] - 50s 5ms/sample - loss: 0.5062 - accuracy: 0.7584 - val_loss: 0.5972 - val_accuracy: 0.6960\n",
      "Epoch 9/30\n",
      "10000/10000 [==============================] - 51s 5ms/sample - loss: 0.4956 - accuracy: 0.7634 - val_loss: 0.7016 - val_accuracy: 0.5780\n",
      "Epoch 10/30\n",
      "10000/10000 [==============================] - 50s 5ms/sample - loss: 0.4930 - accuracy: 0.7655 - val_loss: 0.5892 - val_accuracy: 0.7155\n",
      "Epoch 11/30\n",
      "10000/10000 [==============================] - 50s 5ms/sample - loss: 0.4745 - accuracy: 0.7733 - val_loss: 0.6004 - val_accuracy: 0.6855\n",
      "Epoch 12/30\n",
      "10000/10000 [==============================] - 50s 5ms/sample - loss: 0.4663 - accuracy: 0.7821 - val_loss: 0.6621 - val_accuracy: 0.6040\n",
      "Epoch 13/30\n",
      "10000/10000 [==============================] - 50s 5ms/sample - loss: 0.4606 - accuracy: 0.7854 - val_loss: 0.6592 - val_accuracy: 0.6235\n",
      "Epoch 14/30\n",
      "10000/10000 [==============================] - 50s 5ms/sample - loss: 0.4618 - accuracy: 0.7823 - val_loss: 0.7168 - val_accuracy: 0.5390\n",
      "Epoch 15/30\n",
      "10000/10000 [==============================] - 51s 5ms/sample - loss: 0.4563 - accuracy: 0.7835 - val_loss: 0.6895 - val_accuracy: 0.5885\n",
      "Epoch 16/30\n",
      "10000/10000 [==============================] - 50s 5ms/sample - loss: 0.4438 - accuracy: 0.7914 - val_loss: 0.6938 - val_accuracy: 0.5950\n",
      "Epoch 17/30\n",
      "10000/10000 [==============================] - 51s 5ms/sample - loss: 0.4433 - accuracy: 0.7950 - val_loss: 0.8573 - val_accuracy: 0.4160\n",
      "Epoch 18/30\n",
      "10000/10000 [==============================] - 50s 5ms/sample - loss: 0.4387 - accuracy: 0.7950 - val_loss: 0.7833 - val_accuracy: 0.5005\n",
      "Epoch 19/30\n",
      "10000/10000 [==============================] - 51s 5ms/sample - loss: 0.4272 - accuracy: 0.8027 - val_loss: 0.7165 - val_accuracy: 0.5745\n",
      "Epoch 20/30\n",
      "10000/10000 [==============================] - 50s 5ms/sample - loss: 0.4290 - accuracy: 0.8022 - val_loss: 0.6798 - val_accuracy: 0.5965\n",
      "Epoch 21/30\n",
      "10000/10000 [==============================] - 50s 5ms/sample - loss: 0.4212 - accuracy: 0.8053 - val_loss: 0.6949 - val_accuracy: 0.5835\n",
      "Epoch 22/30\n",
      "10000/10000 [==============================] - 51s 5ms/sample - loss: 0.4200 - accuracy: 0.8045 - val_loss: 0.6303 - val_accuracy: 0.6565\n",
      "Epoch 23/30\n",
      "10000/10000 [==============================] - 51s 5ms/sample - loss: 0.4211 - accuracy: 0.8044 - val_loss: 0.7231 - val_accuracy: 0.5405\n",
      "Epoch 24/30\n",
      "10000/10000 [==============================] - 50s 5ms/sample - loss: 0.4168 - accuracy: 0.8108 - val_loss: 0.6660 - val_accuracy: 0.6030\n",
      "Epoch 25/30\n",
      "10000/10000 [==============================] - 50s 5ms/sample - loss: 0.4130 - accuracy: 0.8105 - val_loss: 0.7058 - val_accuracy: 0.5595\n",
      "Epoch 26/30\n",
      "10000/10000 [==============================] - 51s 5ms/sample - loss: 0.4105 - accuracy: 0.8156 - val_loss: 0.7611 - val_accuracy: 0.5215\n",
      "Epoch 27/30\n",
      "10000/10000 [==============================] - 50s 5ms/sample - loss: 0.4079 - accuracy: 0.8140 - val_loss: 0.6491 - val_accuracy: 0.6290\n",
      "Epoch 28/30\n",
      "10000/10000 [==============================] - 50s 5ms/sample - loss: 0.4052 - accuracy: 0.8151 - val_loss: 0.7308 - val_accuracy: 0.5435\n",
      "Epoch 29/30\n",
      "10000/10000 [==============================] - 50s 5ms/sample - loss: 0.4051 - accuracy: 0.8212 - val_loss: 0.6602 - val_accuracy: 0.6205\n",
      "Epoch 30/30\n",
      "10000/10000 [==============================] - 50s 5ms/sample - loss: 0.4015 - accuracy: 0.8193 - val_loss: 0.7622 - val_accuracy: 0.5090\n"
     ]
    }
   ],
   "source": [
    "# fit the model\n",
    "history3=model3.fit(padded_docs, train_label, validation_data=(padded_docs1,test_label), epochs=30, verbose=1)"
   ]
  },
  {
   "cell_type": "code",
   "execution_count": null,
   "metadata": {},
   "outputs": [],
   "source": []
  },
  {
   "cell_type": "code",
   "execution_count": null,
   "metadata": {},
   "outputs": [],
   "source": []
  },
  {
   "cell_type": "code",
   "execution_count": null,
   "metadata": {},
   "outputs": [],
   "source": []
  },
  {
   "cell_type": "code",
   "execution_count": null,
   "metadata": {},
   "outputs": [],
   "source": []
  },
  {
   "cell_type": "code",
   "execution_count": null,
   "metadata": {},
   "outputs": [],
   "source": []
  },
  {
   "cell_type": "code",
   "execution_count": null,
   "metadata": {},
   "outputs": [],
   "source": []
  },
  {
   "cell_type": "code",
   "execution_count": 31,
   "metadata": {},
   "outputs": [
    {
     "name": "stdout",
     "output_type": "stream",
     "text": [
      "Model: \"sequential_4\"\n",
      "_________________________________________________________________\n",
      "Layer (type)                 Output Shape              Param #   \n",
      "=================================================================\n",
      "embedding_4 (Embedding)      (None, 100, 100)          1981400   \n",
      "_________________________________________________________________\n",
      "conv1d_4 (Conv1D)            (None, 97, 32)            12832     \n",
      "_________________________________________________________________\n",
      "dropout_4 (Dropout)          (None, 97, 32)            0         \n",
      "_________________________________________________________________\n",
      "max_pooling1d_4 (MaxPooling1 (None, 48, 32)            0         \n",
      "_________________________________________________________________\n",
      "bidirectional (Bidirectional (None, 48, 128)           49664     \n",
      "_________________________________________________________________\n",
      "bidirectional_1 (Bidirection (None, 256)               263168    \n",
      "_________________________________________________________________\n",
      "flatten_4 (Flatten)          (None, 256)               0         \n",
      "_________________________________________________________________\n",
      "dense_8 (Dense)              (None, 256)               65792     \n",
      "_________________________________________________________________\n",
      "dense_9 (Dense)              (None, 1)                 257       \n",
      "=================================================================\n",
      "Total params: 2,373,113\n",
      "Trainable params: 391,713\n",
      "Non-trainable params: 1,981,400\n",
      "_________________________________________________________________\n",
      "None\n"
     ]
    }
   ],
   "source": [
    "#define model\n",
    "model4 = Sequential()\n",
    "e = tf.keras.layers.Embedding(vocab_size, 100, weights=[embedding_matrix], input_length=100, trainable=False)\n",
    "model4.add(e)\n",
    "model4.add(layers.Conv1D(32,4, activation='relu'))\n",
    "model4.add(layers.Dropout(rate=0.8))\n",
    "model4.add(layers.MaxPooling1D(pool_size=2))\n",
    "model4.add(layers.Bidirectional(layers.LSTM(64, activation='relu', return_sequences=True)))\n",
    "model4.add(layers.Bidirectional(layers.LSTM(128, activation='relu', return_sequences=False)))\n",
    "model4.add(layers.Flatten())\n",
    "model4.add(layers.Dense(256,activation='relu'))\n",
    "model4.add(layers.Dense(1, activation='sigmoid'))\n",
    "\n",
    "# compile the model\n",
    "model4.compile(optimizer='adam', loss='binary_crossentropy', metrics=['accuracy'])\n",
    "# summarize the model\n",
    "print(model4.summary())"
   ]
  },
  {
   "cell_type": "code",
   "execution_count": 32,
   "metadata": {},
   "outputs": [
    {
     "name": "stdout",
     "output_type": "stream",
     "text": [
      "Train on 10000 samples, validate on 2000 samples\n",
      "Epoch 1/30\n",
      "10000/10000 [==============================] - 75s 7ms/sample - loss: 1.7876 - accuracy: 0.5706 - val_loss: 0.6549 - val_accuracy: 0.7920\n",
      "Epoch 2/30\n",
      "10000/10000 [==============================] - 68s 7ms/sample - loss: 0.7191 - accuracy: 0.5629 - val_loss: 0.6773 - val_accuracy: 0.7000\n",
      "Epoch 3/30\n",
      "10000/10000 [==============================] - 68s 7ms/sample - loss: 20.9758 - accuracy: 0.5716 - val_loss: 0.6079 - val_accuracy: 0.7915\n",
      "Epoch 4/30\n",
      "10000/10000 [==============================] - 68s 7ms/sample - loss: 0.6659 - accuracy: 0.5872 - val_loss: 0.6197 - val_accuracy: 0.7745\n",
      "Epoch 5/30\n",
      "10000/10000 [==============================] - 68s 7ms/sample - loss: 0.6546 - accuracy: 0.6074 - val_loss: 0.6584 - val_accuracy: 0.6960\n",
      "Epoch 6/30\n",
      "10000/10000 [==============================] - 67s 7ms/sample - loss: 0.6522 - accuracy: 0.6142 - val_loss: 0.6287 - val_accuracy: 0.7610\n",
      "Epoch 7/30\n",
      "10000/10000 [==============================] - 66s 7ms/sample - loss: 0.6357 - accuracy: 0.6336 - val_loss: 0.6644 - val_accuracy: 0.6340\n",
      "Epoch 8/30\n",
      "10000/10000 [==============================] - 66s 7ms/sample - loss: 0.6220 - accuracy: 0.6527 - val_loss: 0.6395 - val_accuracy: 0.6980\n",
      "Epoch 9/30\n",
      "10000/10000 [==============================] - 65s 7ms/sample - loss: 0.6108 - accuracy: 0.6626 - val_loss: 0.6358 - val_accuracy: 0.6635\n",
      "Epoch 10/30\n",
      "10000/10000 [==============================] - 65s 6ms/sample - loss: 0.6766 - accuracy: 0.6187 - val_loss: 0.6843 - val_accuracy: 0.6245\n",
      "Epoch 11/30\n",
      "10000/10000 [==============================] - 65s 7ms/sample - loss: 0.8001 - accuracy: 0.6159 - val_loss: 0.6440 - val_accuracy: 0.6990\n",
      "Epoch 12/30\n",
      "10000/10000 [==============================] - 67s 7ms/sample - loss: 0.6597 - accuracy: 0.6215 - val_loss: 0.6664 - val_accuracy: 0.6190\n",
      "Epoch 13/30\n",
      "10000/10000 [==============================] - 67s 7ms/sample - loss: 0.6276 - accuracy: 0.6442 - val_loss: 0.6491 - val_accuracy: 0.6460\n",
      "Epoch 14/30\n",
      "10000/10000 [==============================] - 67s 7ms/sample - loss: 0.6138 - accuracy: 0.6590 - val_loss: 0.6669 - val_accuracy: 0.6360\n",
      "Epoch 15/30\n",
      "10000/10000 [==============================] - 67s 7ms/sample - loss: 0.6095 - accuracy: 0.6614 - val_loss: 0.6299 - val_accuracy: 0.6905\n",
      "Epoch 16/30\n",
      "10000/10000 [==============================] - 67s 7ms/sample - loss: 0.5914 - accuracy: 0.6841 - val_loss: 0.6443 - val_accuracy: 0.6480\n",
      "Epoch 17/30\n",
      "10000/10000 [==============================] - 68s 7ms/sample - loss: 1.1200 - accuracy: 0.6989 - val_loss: 0.6437 - val_accuracy: 0.6290\n",
      "Epoch 18/30\n",
      "10000/10000 [==============================] - 67s 7ms/sample - loss: 0.5716 - accuracy: 0.6986 - val_loss: 0.7049 - val_accuracy: 0.5385\n",
      "Epoch 19/30\n",
      "10000/10000 [==============================] - 67s 7ms/sample - loss: 0.5574 - accuracy: 0.7107 - val_loss: 0.7239 - val_accuracy: 0.5270\n",
      "Epoch 20/30\n",
      "10000/10000 [==============================] - 68s 7ms/sample - loss: 0.5590 - accuracy: 0.7086 - val_loss: 0.6687 - val_accuracy: 0.6040\n",
      "Epoch 21/30\n",
      "10000/10000 [==============================] - 68s 7ms/sample - loss: 0.5509 - accuracy: 0.7195 - val_loss: 0.7206 - val_accuracy: 0.5220\n",
      "Epoch 22/30\n",
      "10000/10000 [==============================] - 66s 7ms/sample - loss: 0.5425 - accuracy: 0.7218 - val_loss: 0.7095 - val_accuracy: 0.5375\n",
      "Epoch 23/30\n",
      "10000/10000 [==============================] - 65s 7ms/sample - loss: 0.5452 - accuracy: 0.7208 - val_loss: 0.7239 - val_accuracy: 0.5195\n",
      "Epoch 24/30\n",
      "10000/10000 [==============================] - 65s 7ms/sample - loss: 0.5419 - accuracy: 0.7241 - val_loss: 0.7465 - val_accuracy: 0.4995\n",
      "Epoch 25/30\n",
      "10000/10000 [==============================] - 68s 7ms/sample - loss: 0.5348 - accuracy: 0.7286 - val_loss: 0.8198 - val_accuracy: 0.4350\n",
      "Epoch 26/30\n",
      "10000/10000 [==============================] - 70s 7ms/sample - loss: 0.5282 - accuracy: 0.7331 - val_loss: 0.8465 - val_accuracy: 0.4150\n",
      "Epoch 27/30\n",
      "10000/10000 [==============================] - 68s 7ms/sample - loss: 0.5291 - accuracy: 0.7332 - val_loss: 0.8158 - val_accuracy: 0.4455\n",
      "Epoch 28/30\n",
      "10000/10000 [==============================] - 67s 7ms/sample - loss: 0.5284 - accuracy: 0.7365 - val_loss: 0.7803 - val_accuracy: 0.4845\n",
      "Epoch 29/30\n",
      "10000/10000 [==============================] - 67s 7ms/sample - loss: 0.5270 - accuracy: 0.7344 - val_loss: 0.8332 - val_accuracy: 0.4210\n",
      "Epoch 30/30\n",
      "10000/10000 [==============================] - 68s 7ms/sample - loss: 0.5135 - accuracy: 0.7404 - val_loss: 0.8322 - val_accuracy: 0.4335\n"
     ]
    }
   ],
   "source": [
    "# fit the model\n",
    "history4=model4.fit(padded_docs, train_label, validation_data=(padded_docs1,test_label), epochs=30, verbose=1)"
   ]
  },
  {
   "cell_type": "code",
   "execution_count": null,
   "metadata": {},
   "outputs": [],
   "source": []
  },
  {
   "cell_type": "code",
   "execution_count": null,
   "metadata": {},
   "outputs": [],
   "source": []
  },
  {
   "cell_type": "code",
   "execution_count": null,
   "metadata": {},
   "outputs": [],
   "source": []
  }
 ],
 "metadata": {
  "kernelspec": {
   "display_name": "Python 3",
   "language": "python",
   "name": "python3"
  },
  "language_info": {
   "codemirror_mode": {
    "name": "ipython",
    "version": 3
   },
   "file_extension": ".py",
   "mimetype": "text/x-python",
   "name": "python",
   "nbconvert_exporter": "python",
   "pygments_lexer": "ipython3",
   "version": "3.7.5"
  }
 },
 "nbformat": 4,
 "nbformat_minor": 2
}
